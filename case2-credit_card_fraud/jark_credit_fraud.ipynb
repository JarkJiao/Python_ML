{
 "cells": [
  {
   "cell_type": "code",
   "execution_count": 1,
   "metadata": {
    "collapsed": true
   },
   "outputs": [],
   "source": [
    "import numpy as np\n",
    "import pandas as pd\n",
    "import matplotlib.pyplot as plt\n",
    "%matplotlib inline"
   ]
  },
  {
   "cell_type": "code",
   "execution_count": 2,
   "metadata": {
    "collapsed": false
   },
   "outputs": [
    {
     "data": {
      "text/html": [
       "<div>\n",
       "<table border=\"1\" class=\"dataframe\">\n",
       "  <thead>\n",
       "    <tr style=\"text-align: right;\">\n",
       "      <th></th>\n",
       "      <th>Time</th>\n",
       "      <th>V1</th>\n",
       "      <th>V2</th>\n",
       "      <th>V3</th>\n",
       "      <th>V4</th>\n",
       "      <th>V5</th>\n",
       "      <th>V6</th>\n",
       "      <th>V7</th>\n",
       "      <th>V8</th>\n",
       "      <th>V9</th>\n",
       "      <th>...</th>\n",
       "      <th>V21</th>\n",
       "      <th>V22</th>\n",
       "      <th>V23</th>\n",
       "      <th>V24</th>\n",
       "      <th>V25</th>\n",
       "      <th>V26</th>\n",
       "      <th>V27</th>\n",
       "      <th>V28</th>\n",
       "      <th>Amount</th>\n",
       "      <th>Class</th>\n",
       "    </tr>\n",
       "  </thead>\n",
       "  <tbody>\n",
       "    <tr>\n",
       "      <th>0</th>\n",
       "      <td>0.0</td>\n",
       "      <td>-1.359807</td>\n",
       "      <td>-0.072781</td>\n",
       "      <td>2.536347</td>\n",
       "      <td>1.378155</td>\n",
       "      <td>-0.338321</td>\n",
       "      <td>0.462388</td>\n",
       "      <td>0.239599</td>\n",
       "      <td>0.098698</td>\n",
       "      <td>0.363787</td>\n",
       "      <td>...</td>\n",
       "      <td>-0.018307</td>\n",
       "      <td>0.277838</td>\n",
       "      <td>-0.110474</td>\n",
       "      <td>0.066928</td>\n",
       "      <td>0.128539</td>\n",
       "      <td>-0.189115</td>\n",
       "      <td>0.133558</td>\n",
       "      <td>-0.021053</td>\n",
       "      <td>149.62</td>\n",
       "      <td>0</td>\n",
       "    </tr>\n",
       "    <tr>\n",
       "      <th>1</th>\n",
       "      <td>0.0</td>\n",
       "      <td>1.191857</td>\n",
       "      <td>0.266151</td>\n",
       "      <td>0.166480</td>\n",
       "      <td>0.448154</td>\n",
       "      <td>0.060018</td>\n",
       "      <td>-0.082361</td>\n",
       "      <td>-0.078803</td>\n",
       "      <td>0.085102</td>\n",
       "      <td>-0.255425</td>\n",
       "      <td>...</td>\n",
       "      <td>-0.225775</td>\n",
       "      <td>-0.638672</td>\n",
       "      <td>0.101288</td>\n",
       "      <td>-0.339846</td>\n",
       "      <td>0.167170</td>\n",
       "      <td>0.125895</td>\n",
       "      <td>-0.008983</td>\n",
       "      <td>0.014724</td>\n",
       "      <td>2.69</td>\n",
       "      <td>0</td>\n",
       "    </tr>\n",
       "    <tr>\n",
       "      <th>2</th>\n",
       "      <td>1.0</td>\n",
       "      <td>-1.358354</td>\n",
       "      <td>-1.340163</td>\n",
       "      <td>1.773209</td>\n",
       "      <td>0.379780</td>\n",
       "      <td>-0.503198</td>\n",
       "      <td>1.800499</td>\n",
       "      <td>0.791461</td>\n",
       "      <td>0.247676</td>\n",
       "      <td>-1.514654</td>\n",
       "      <td>...</td>\n",
       "      <td>0.247998</td>\n",
       "      <td>0.771679</td>\n",
       "      <td>0.909412</td>\n",
       "      <td>-0.689281</td>\n",
       "      <td>-0.327642</td>\n",
       "      <td>-0.139097</td>\n",
       "      <td>-0.055353</td>\n",
       "      <td>-0.059752</td>\n",
       "      <td>378.66</td>\n",
       "      <td>0</td>\n",
       "    </tr>\n",
       "    <tr>\n",
       "      <th>3</th>\n",
       "      <td>1.0</td>\n",
       "      <td>-0.966272</td>\n",
       "      <td>-0.185226</td>\n",
       "      <td>1.792993</td>\n",
       "      <td>-0.863291</td>\n",
       "      <td>-0.010309</td>\n",
       "      <td>1.247203</td>\n",
       "      <td>0.237609</td>\n",
       "      <td>0.377436</td>\n",
       "      <td>-1.387024</td>\n",
       "      <td>...</td>\n",
       "      <td>-0.108300</td>\n",
       "      <td>0.005274</td>\n",
       "      <td>-0.190321</td>\n",
       "      <td>-1.175575</td>\n",
       "      <td>0.647376</td>\n",
       "      <td>-0.221929</td>\n",
       "      <td>0.062723</td>\n",
       "      <td>0.061458</td>\n",
       "      <td>123.50</td>\n",
       "      <td>0</td>\n",
       "    </tr>\n",
       "    <tr>\n",
       "      <th>4</th>\n",
       "      <td>2.0</td>\n",
       "      <td>-1.158233</td>\n",
       "      <td>0.877737</td>\n",
       "      <td>1.548718</td>\n",
       "      <td>0.403034</td>\n",
       "      <td>-0.407193</td>\n",
       "      <td>0.095921</td>\n",
       "      <td>0.592941</td>\n",
       "      <td>-0.270533</td>\n",
       "      <td>0.817739</td>\n",
       "      <td>...</td>\n",
       "      <td>-0.009431</td>\n",
       "      <td>0.798278</td>\n",
       "      <td>-0.137458</td>\n",
       "      <td>0.141267</td>\n",
       "      <td>-0.206010</td>\n",
       "      <td>0.502292</td>\n",
       "      <td>0.219422</td>\n",
       "      <td>0.215153</td>\n",
       "      <td>69.99</td>\n",
       "      <td>0</td>\n",
       "    </tr>\n",
       "  </tbody>\n",
       "</table>\n",
       "<p>5 rows × 31 columns</p>\n",
       "</div>"
      ],
      "text/plain": [
       "   Time        V1        V2        V3        V4        V5        V6        V7  \\\n",
       "0   0.0 -1.359807 -0.072781  2.536347  1.378155 -0.338321  0.462388  0.239599   \n",
       "1   0.0  1.191857  0.266151  0.166480  0.448154  0.060018 -0.082361 -0.078803   \n",
       "2   1.0 -1.358354 -1.340163  1.773209  0.379780 -0.503198  1.800499  0.791461   \n",
       "3   1.0 -0.966272 -0.185226  1.792993 -0.863291 -0.010309  1.247203  0.237609   \n",
       "4   2.0 -1.158233  0.877737  1.548718  0.403034 -0.407193  0.095921  0.592941   \n",
       "\n",
       "         V8        V9  ...         V21       V22       V23       V24  \\\n",
       "0  0.098698  0.363787  ...   -0.018307  0.277838 -0.110474  0.066928   \n",
       "1  0.085102 -0.255425  ...   -0.225775 -0.638672  0.101288 -0.339846   \n",
       "2  0.247676 -1.514654  ...    0.247998  0.771679  0.909412 -0.689281   \n",
       "3  0.377436 -1.387024  ...   -0.108300  0.005274 -0.190321 -1.175575   \n",
       "4 -0.270533  0.817739  ...   -0.009431  0.798278 -0.137458  0.141267   \n",
       "\n",
       "        V25       V26       V27       V28  Amount  Class  \n",
       "0  0.128539 -0.189115  0.133558 -0.021053  149.62      0  \n",
       "1  0.167170  0.125895 -0.008983  0.014724    2.69      0  \n",
       "2 -0.327642 -0.139097 -0.055353 -0.059752  378.66      0  \n",
       "3  0.647376 -0.221929  0.062723  0.061458  123.50      0  \n",
       "4 -0.206010  0.502292  0.219422  0.215153   69.99      0  \n",
       "\n",
       "[5 rows x 31 columns]"
      ]
     },
     "execution_count": 2,
     "metadata": {},
     "output_type": "execute_result"
    }
   ],
   "source": [
    "data = pd.read_csv('creditcard.csv')\n",
    "data.head()"
   ]
  },
  {
   "cell_type": "code",
   "execution_count": 6,
   "metadata": {
    "collapsed": false
   },
   "outputs": [
    {
     "data": {
      "text/plain": [
       "<matplotlib.text.Text at 0x1137a7a10>"
      ]
     },
     "execution_count": 6,
     "metadata": {},
     "output_type": "execute_result"
    },
    {
     "data": {
      "image/png": "[encoded data removed]",
      "text/plain": [
       "<matplotlib.figure.Figure at 0x1137704d0>"
      ]
     },
     "metadata": {},
     "output_type": "display_data"
    }
   ],
   "source": [
    "count_classes = pd.value_counts(data['Class'],sort=True).sort_index()\n",
    "#print count_classes\n",
    "count_classes.plot(kind='bar')\n",
    "plt.title('Fraud class histogram')\n",
    "plt.xlabel('Class')\n",
    "plt.ylabel('Frequency')"
   ]
  },
  {
   "cell_type": "code",
   "execution_count": 10,
   "metadata": {
    "collapsed": false,
    "scrolled": true
   },
   "outputs": [
    {
     "data": {
      "text/html": [
       "<div>\n",
       "<table border=\"1\" class=\"dataframe\">\n",
       "  <thead>\n",
       "    <tr style=\"text-align: right;\">\n",
       "      <th></th>\n",
       "      <th>V1</th>\n",
       "      <th>V2</th>\n",
       "      <th>V3</th>\n",
       "      <th>V4</th>\n",
       "      <th>V5</th>\n",
       "      <th>V6</th>\n",
       "      <th>V7</th>\n",
       "      <th>V8</th>\n",
       "      <th>V9</th>\n",
       "      <th>V10</th>\n",
       "      <th>...</th>\n",
       "      <th>V21</th>\n",
       "      <th>V22</th>\n",
       "      <th>V23</th>\n",
       "      <th>V24</th>\n",
       "      <th>V25</th>\n",
       "      <th>V26</th>\n",
       "      <th>V27</th>\n",
       "      <th>V28</th>\n",
       "      <th>Class</th>\n",
       "      <th>normAmount</th>\n",
       "    </tr>\n",
       "  </thead>\n",
       "  <tbody>\n",
       "    <tr>\n",
       "      <th>0</th>\n",
       "      <td>-1.359807</td>\n",
       "      <td>-0.072781</td>\n",
       "      <td>2.536347</td>\n",
       "      <td>1.378155</td>\n",
       "      <td>-0.338321</td>\n",
       "      <td>0.462388</td>\n",
       "      <td>0.239599</td>\n",
       "      <td>0.098698</td>\n",
       "      <td>0.363787</td>\n",
       "      <td>0.090794</td>\n",
       "      <td>...</td>\n",
       "      <td>-0.018307</td>\n",
       "      <td>0.277838</td>\n",
       "      <td>-0.110474</td>\n",
       "      <td>0.066928</td>\n",
       "      <td>0.128539</td>\n",
       "      <td>-0.189115</td>\n",
       "      <td>0.133558</td>\n",
       "      <td>-0.021053</td>\n",
       "      <td>0</td>\n",
       "      <td>0.244964</td>\n",
       "    </tr>\n",
       "    <tr>\n",
       "      <th>1</th>\n",
       "      <td>1.191857</td>\n",
       "      <td>0.266151</td>\n",
       "      <td>0.166480</td>\n",
       "      <td>0.448154</td>\n",
       "      <td>0.060018</td>\n",
       "      <td>-0.082361</td>\n",
       "      <td>-0.078803</td>\n",
       "      <td>0.085102</td>\n",
       "      <td>-0.255425</td>\n",
       "      <td>-0.166974</td>\n",
       "      <td>...</td>\n",
       "      <td>-0.225775</td>\n",
       "      <td>-0.638672</td>\n",
       "      <td>0.101288</td>\n",
       "      <td>-0.339846</td>\n",
       "      <td>0.167170</td>\n",
       "      <td>0.125895</td>\n",
       "      <td>-0.008983</td>\n",
       "      <td>0.014724</td>\n",
       "      <td>0</td>\n",
       "      <td>-0.342475</td>\n",
       "    </tr>\n",
       "    <tr>\n",
       "      <th>2</th>\n",
       "      <td>-1.358354</td>\n",
       "      <td>-1.340163</td>\n",
       "      <td>1.773209</td>\n",
       "      <td>0.379780</td>\n",
       "      <td>-0.503198</td>\n",
       "      <td>1.800499</td>\n",
       "      <td>0.791461</td>\n",
       "      <td>0.247676</td>\n",
       "      <td>-1.514654</td>\n",
       "      <td>0.207643</td>\n",
       "      <td>...</td>\n",
       "      <td>0.247998</td>\n",
       "      <td>0.771679</td>\n",
       "      <td>0.909412</td>\n",
       "      <td>-0.689281</td>\n",
       "      <td>-0.327642</td>\n",
       "      <td>-0.139097</td>\n",
       "      <td>-0.055353</td>\n",
       "      <td>-0.059752</td>\n",
       "      <td>0</td>\n",
       "      <td>1.160686</td>\n",
       "    </tr>\n",
       "    <tr>\n",
       "      <th>3</th>\n",
       "      <td>-0.966272</td>\n",
       "      <td>-0.185226</td>\n",
       "      <td>1.792993</td>\n",
       "      <td>-0.863291</td>\n",
       "      <td>-0.010309</td>\n",
       "      <td>1.247203</td>\n",
       "      <td>0.237609</td>\n",
       "      <td>0.377436</td>\n",
       "      <td>-1.387024</td>\n",
       "      <td>-0.054952</td>\n",
       "      <td>...</td>\n",
       "      <td>-0.108300</td>\n",
       "      <td>0.005274</td>\n",
       "      <td>-0.190321</td>\n",
       "      <td>-1.175575</td>\n",
       "      <td>0.647376</td>\n",
       "      <td>-0.221929</td>\n",
       "      <td>0.062723</td>\n",
       "      <td>0.061458</td>\n",
       "      <td>0</td>\n",
       "      <td>0.140534</td>\n",
       "    </tr>\n",
       "    <tr>\n",
       "      <th>4</th>\n",
       "      <td>-1.158233</td>\n",
       "      <td>0.877737</td>\n",
       "      <td>1.548718</td>\n",
       "      <td>0.403034</td>\n",
       "      <td>-0.407193</td>\n",
       "      <td>0.095921</td>\n",
       "      <td>0.592941</td>\n",
       "      <td>-0.270533</td>\n",
       "      <td>0.817739</td>\n",
       "      <td>0.753074</td>\n",
       "      <td>...</td>\n",
       "      <td>-0.009431</td>\n",
       "      <td>0.798278</td>\n",
       "      <td>-0.137458</td>\n",
       "      <td>0.141267</td>\n",
       "      <td>-0.206010</td>\n",
       "      <td>0.502292</td>\n",
       "      <td>0.219422</td>\n",
       "      <td>0.215153</td>\n",
       "      <td>0</td>\n",
       "      <td>-0.073403</td>\n",
       "    </tr>\n",
       "  </tbody>\n",
       "</table>\n",
       "<p>5 rows × 30 columns</p>\n",
       "</div>"
      ],
      "text/plain": [
       "         V1        V2        V3        V4        V5        V6        V7  \\\n",
       "0 -1.359807 -0.072781  2.536347  1.378155 -0.338321  0.462388  0.239599   \n",
       "1  1.191857  0.266151  0.166480  0.448154  0.060018 -0.082361 -0.078803   \n",
       "2 -1.358354 -1.340163  1.773209  0.379780 -0.503198  1.800499  0.791461   \n",
       "3 -0.966272 -0.185226  1.792993 -0.863291 -0.010309  1.247203  0.237609   \n",
       "4 -1.158233  0.877737  1.548718  0.403034 -0.407193  0.095921  0.592941   \n",
       "\n",
       "         V8        V9       V10     ...           V21       V22       V23  \\\n",
       "0  0.098698  0.363787  0.090794     ...     -0.018307  0.277838 -0.110474   \n",
       "1  0.085102 -0.255425 -0.166974     ...     -0.225775 -0.638672  0.101288   \n",
       "2  0.247676 -1.514654  0.207643     ...      0.247998  0.771679  0.909412   \n",
       "3  0.377436 -1.387024 -0.054952     ...     -0.108300  0.005274 -0.190321   \n",
       "4 -0.270533  0.817739  0.753074     ...     -0.009431  0.798278 -0.137458   \n",
       "\n",
       "        V24       V25       V26       V27       V28  Class  normAmount  \n",
       "0  0.066928  0.128539 -0.189115  0.133558 -0.021053      0    0.244964  \n",
       "1 -0.339846  0.167170  0.125895 -0.008983  0.014724      0   -0.342475  \n",
       "2 -0.689281 -0.327642 -0.139097 -0.055353 -0.059752      0    1.160686  \n",
       "3 -1.175575  0.647376 -0.221929  0.062723  0.061458      0    0.140534  \n",
       "4  0.141267 -0.206010  0.502292  0.219422  0.215153      0   -0.073403  \n",
       "\n",
       "[5 rows x 30 columns]"
      ]
     },
     "execution_count": 10,
     "metadata": {},
     "output_type": "execute_result"
    }
   ],
   "source": [
    "from sklearn.preprocessing import StandardScaler\n",
    "\n",
    "data['normAmount'] = StandardScaler().fit_transform(data['Amount'].values.reshape(-1,1))\n",
    "#data['normAmount'].head()\n",
    "data = data.drop(['Time','Amount'],1)\n",
    "data.head()"
   ]
  },
  {
   "cell_type": "code",
   "execution_count": 55,
   "metadata": {
    "collapsed": false
   },
   "outputs": [
    {
     "name": "stdout",
     "output_type": "stream",
     "text": [
      "percentage of normal transactions: 0.5\n",
      "percentage of fraud transactions: 0.5\n",
      "total number of transactions in resapmled data: 984\n"
     ]
    }
   ],
   "source": [
    "X = data.ix[:,data.columns != 'Class']\n",
    "y = data.ix[:,data.columns == 'Class']\n",
    "#x,y\n",
    "\n",
    "# number of data points in the minority class\n",
    "number_records_fraud = len(y[y.Class == 1])\n",
    "#number_records_fraud\n",
    "fraud_indices = np.array(y[y.Class == 1].index)\n",
    "#fraud_indices\n",
    "\n",
    "#picking the indices of the normal classes\n",
    "normal_indices = data[data.Class == 0].index\n",
    "#normal_indices\n",
    "\n",
    "#out of the indices we picked,randomly select x number (number_fraud_indices)\n",
    "random_normal_indices = np.random.choice(normal_indices,number_records_fraud,replace = False)\n",
    "#random_normal_indices\n",
    "#len(random_normal_indices)\n",
    "#random_normal_indices = np.array(random_normal_indices)\n",
    "#random_normal_indices\n",
    "\n",
    "#appending the 2 indices\n",
    "under_sample_indices = np.concatenate([fraud_indices,random_normal_indices])\n",
    "#under_sample_indices[0:5]\n",
    "\n",
    "#under sample dataset\n",
    "under_sample_data = data.ix[under_sample_indices,:]\n",
    "#under_sample_data.tail()\n",
    "X_undersample = under_sample_data.ix[:,under_sample_data.columns != 'Class']\n",
    "y_undersample = under_sample_data.ix[:,under_sample_data.columns == 'Class']\n",
    "#y_undersample\n",
    "\n",
    "#y_0 = len(under_sample_data[under_sample_data.Class == 0])\n",
    "#y_total = len(under_sample_data)\n",
    "#float(y_0) / y_total\n",
    "\n",
    "#showing ratio \n",
    "print 'percentage of normal transactions: %.1f' %(len(under_sample_data[under_sample_data.Class == 0])/float(len(under_sample_data)))\n",
    "print 'percentage of fraud transactions:',len(under_sample_data[under_sample_data.Class ==1])/float(len(under_sample_data))\n",
    "print 'total number of transactions in resapmled data:' , len(y_undersample)\n",
    "\n",
    "\n",
    "\n",
    "\n",
    "\n",
    "\n",
    "\n",
    "\n"
   ]
  },
  {
   "cell_type": "code",
   "execution_count": 56,
   "metadata": {
    "collapsed": false
   },
   "outputs": [],
   "source": [
    "from sklearn.cross_validation import train_test_split\n"
   ]
  },
  {
   "cell_type": "code",
   "execution_count": 58,
   "metadata": {
    "collapsed": false
   },
   "outputs": [
    {
     "name": "stdout",
     "output_type": "stream",
     "text": [
      "number transactions train dataset: 199364\n",
      "number transactions test dataset: 85443\n",
      "total number of transactions: 284807\n",
      "-------------\n",
      "number transactions train dataset: 688\n",
      "number transactions test dataset: 296\n",
      "total number of transactions: 984\n"
     ]
    }
   ],
   "source": [
    "#whole dataset\n",
    "X_train,X_test,y_train,y_test = train_test_split(X,y,test_size = 0.3,random_state = 0)\n",
    "\n",
    "print 'number transactions train dataset:' , len(X_train)\n",
    "print 'number transactions test dataset:' , len(X_test)\n",
    "print 'total number of transactions:' , len(X_train)+len(X_test)\n",
    "\n",
    "#undersampled dataset \n",
    "X_train_undersample,X_test_undersample,y_train_undersample,y_test_undersample = train_test_split(X_undersample,y_undersample,test_size=0.3,random_state=0)\n",
    "\n",
    "\n",
    "\n",
    "print '-------------'\n",
    "print 'number transactions train dataset:' , len(X_train_undersample)\n",
    "print 'number transactions test dataset:' , len(X_test_undersample)\n",
    "print 'total number of transactions:' , len(X_train_undersample)+len(X_test_undersample)\n",
    "\n",
    "\n",
    "\n",
    "\n",
    "\n"
   ]
  },
  {
   "cell_type": "code",
   "execution_count": 59,
   "metadata": {
    "collapsed": true
   },
   "outputs": [],
   "source": [
    "#recall = TP/(TP+FN)\n",
    "from sklearn.linear_model import LogisticRegression\n",
    "from sklearn.cross_validation import KFold,cross_val_score\n",
    "from sklearn.metrics import confusion_matrix,recall_score,classification_report\n"
   ]
  },
  {
   "cell_type": "code",
   "execution_count": 62,
   "metadata": {
    "collapsed": true
   },
   "outputs": [],
   "source": [
    "def printing_kfold_scores(x_train_data,y_train_data):\n",
    "    fold = KFold(len(y_train_data),5,shuffle=False)\n",
    "    \n",
    "    #Different C parameters\n",
    "    c_param_range = [0.01,0.1,1,10,100]\n",
    "    \n",
    "    results_table = pd.DataFrame(index = range(len(c_param_range),2),columns=['C_parameter','mean recall score'])\n",
    "    results_table['C_parameter'] = c_param_range\n",
    "    \n",
    "    #the k-fold will give 2 lists:\n",
    "    #train_indices = indices[0],\n",
    "    #test_indices = indices[1]\n",
    "    j = 0 \n",
    "    for c_param in c_param_range:\n",
    "        print '----------------'\n",
    "        print 'C parameter:',c_param\n",
    "        print ''\n",
    "        \n",
    "        recall_accs = []\n",
    "        for iteration,indices in enumerate(fold,start=1):\n",
    "            \n",
    "            #call the logistic regression model with a certain C-param\n",
    "            lr = LogisticRegression(C=c_param,penalty='l1')\n",
    "            \n",
    "            #ues the training data to fit the model.in this case,\n",
    "            #we use the portion of the fold to train the model\n",
    "            #with indices[0].we then predict on the portion assigned as the 'test cross validation' with indices[1]\n",
    "            lr.fit(x_train_data.iloc[indices[0],:],y_train_data.iloc[indices[0],:].values.ravel())\n",
    "            \n",
    "            #predict values using the test indices in the training data\n",
    "            y_pred_undersample = lr.predict(x_train_data.iloc[indices[1],:].values)\n",
    "            \n",
    "            \n",
    "            #calculate the recall score and append it to a list for recall scores representing the current c_parameter\n",
    "            recall_acc = recall_score(y_train_data.iloc[indices[1],:].values,y_pred_undersample)\n",
    "            recall_accs.append(recall_acc)\n",
    "            print 'iteration',iteration,':recall score = ',recall_acc\n",
    "            \n",
    "        #the mean value of those recall scores is the metric we want to save and get hold of \n",
    "        results_table.ix[j,'mean recall score'] = np.mean(recall_accs)\n",
    "        j += 1\n",
    "        print ''\n",
    "        print 'mean recall score',np.mean(recall_accs)\n",
    "        print ''\n",
    "        \n",
    "    best_c = results_table.ix[results_table['mean recall score'].idxmax()]['C_parameter']\n",
    "    \n",
    "    #finally, we can check which c parameter is the best amongst the chosen\n",
    "    print '*************************'\n",
    "    print 'best model to choose from cross validation is with c parameter = ',best_c\n",
    "    print '*************************'\n",
    "    \n",
    "    \n",
    "    return best_c  "
   ]
  },
  {
   "cell_type": "code",
   "execution_count": 63,
   "metadata": {
    "collapsed": false
   },
   "outputs": [
    {
     "name": "stdout",
     "output_type": "stream",
     "text": [
      "----------------\n",
      "C parameter: 0.01\n",
      "\n",
      "iteration 1 :recall score =  0.931506849315\n",
      "iteration 2 :recall score =  0.917808219178\n",
      "iteration 3 :recall score =  1.0\n",
      "iteration 4 :recall score =  0.972972972973\n",
      "iteration 5 :recall score =  0.954545454545\n",
      "\n",
      "mean recall score 0.955366699202\n",
      "\n",
      "----------------\n",
      "C parameter: 0.1\n",
      "\n",
      "iteration 1 :recall score =  0.849315068493\n",
      "iteration 2 :recall score =  0.86301369863\n",
      "iteration 3 :recall score =  0.932203389831\n",
      "iteration 4 :recall score =  0.932432432432\n",
      "iteration 5 :recall score =  0.909090909091\n",
      "\n",
      "mean recall score 0.897211099695\n",
      "\n",
      "----------------\n",
      "C parameter: 1\n",
      "\n",
      "iteration 1 :recall score =  0.849315068493\n",
      "iteration 2 :recall score =  0.890410958904\n",
      "iteration 3 :recall score =  0.966101694915\n",
      "iteration 4 :recall score =  0.945945945946\n",
      "iteration 5 :recall score =  0.909090909091\n",
      "\n",
      "mean recall score 0.91217291547\n",
      "\n",
      "----------------\n",
      "C parameter: 10\n",
      "\n",
      "iteration 1 :recall score =  0.890410958904\n",
      "iteration 2 :recall score =  0.890410958904\n",
      "iteration 3 :recall score =  0.983050847458\n",
      "iteration 4 :recall score =  0.932432432432\n",
      "iteration 5 :recall score =  0.924242424242\n",
      "\n",
      "mean recall score 0.924109524388\n",
      "\n",
      "----------------\n",
      "C parameter: 100\n",
      "\n",
      "iteration 1 :recall score =  0.890410958904\n",
      "iteration 2 :recall score =  0.890410958904\n",
      "iteration 3 :recall score =  0.983050847458\n",
      "iteration 4 :recall score =  0.945945945946\n",
      "iteration 5 :recall score =  0.924242424242\n",
      "\n",
      "mean recall score 0.926812227091\n",
      "\n",
      "*************************\n",
      "best model to choose from cross validation is with c parameter =  0.01\n",
      "*************************\n"
     ]
    }
   ],
   "source": [
    "best_c = printing_kfold_scores(X_train_undersample,y_train_undersample)"
   ]
  },
  {
   "cell_type": "code",
   "execution_count": 80,
   "metadata": {
    "collapsed": true
   },
   "outputs": [],
   "source": [
    "def plot_confusion_matrix(cm,classes,\n",
    "                          title='Confusion matrix',\n",
    "                          cmap = plt.cm.Blues):\n",
    "    '''\n",
    "    this function prints and plots the confusion matrix\n",
    "    '''\n",
    "    plt.imshow(cm,interpolation='nearest',cmap=cmap)\n",
    "    plt.title(title)\n",
    "    plt.colorbar()\n",
    "    tick_marks=  np.arange(len(classes))\n",
    "    plt.xticks(tick_marks,classes,rotation = 0)\n",
    "    plt.yticks(tick_marks,classes)\n",
    "    \n",
    "    thresh = cm.max() / 2.\n",
    "    for i ,j in itertools.product(range(cm.shape[0]),range(cm.shape[1])):\n",
    "        plt.text(j,i,cm[i,j],\n",
    "                 horizontalalignment='center',\n",
    "                 color = 'red' if cm[i,j]>thresh else 'black')\n",
    "    plt.tight_layout()\n",
    "    plt.ylabel('True label')\n",
    "    plt.xlabel('predicted label')"
   ]
  },
  {
   "cell_type": "code",
   "execution_count": 81,
   "metadata": {
    "collapsed": true
   },
   "outputs": [],
   "source": [
    "import itertools"
   ]
  },
  {
   "cell_type": "code",
   "execution_count": 82,
   "metadata": {
    "collapsed": false
   },
   "outputs": [
    {
     "name": "stdout",
     "output_type": "stream",
     "text": [
      "recall metric in the testing dataset: 0.938775510204\n",
      "69\n"
     ]
    },
    {
     "data": {
      "image/png": "[encoded data removed]",
      "text/plain": [
       "<matplotlib.figure.Figure at 0x124b6d590>"
      ]
     },
     "metadata": {},
     "output_type": "display_data"
    }
   ],
   "source": [
    "lr = LogisticRegression(C=best_c,penalty='l1')\n",
    "lr.fit(X_train_undersample,y_train_undersample.values.ravel())\n",
    "y_pred_undersample = lr.predict(X_test_undersample.values)\n",
    "\n",
    "#computer confusion matrix\n",
    "cnf_matrix = confusion_matrix(y_test_undersample,y_pred_undersample)\n",
    "np.set_printoptions(precision=2)\n",
    "\n",
    "print 'recall metric in the testing dataset:',float(cnf_matrix[1,1])/(cnf_matrix[1,0]+cnf_matrix[1,1])\n",
    "#print cnf_matrix.shape[0]\n",
    "#print cnf_matrix.shape[1]\n",
    "print cnf_matrix.max()/2\n",
    "class_names=[0,1]\n",
    "plt.figure()\n",
    "plot_confusion_matrix(cnf_matrix,classes=class_names)\n",
    "plt.show()"
   ]
  },
  {
   "cell_type": "code",
   "execution_count": 83,
   "metadata": {
    "collapsed": false
   },
   "outputs": [
    {
     "name": "stdout",
     "output_type": "stream",
     "text": [
      "recall metric in the testing dataset: 0.918367346939\n"
     ]
    },
    {
     "data": {
      "image/png": "[encoded data removed]",
      "text/plain": [
       "<matplotlib.figure.Figure at 0x13d441650>"
      ]
     },
     "metadata": {},
     "output_type": "display_data"
    }
   ],
   "source": [
    "lr = LogisticRegression(C=best_c,penalty='l1')\n",
    "lr.fit(X_train_undersample,y_train_undersample.values.ravel())\n",
    "y_pred = lr.predict(X_test.values)\n",
    "\n",
    "#computer confusion matrix\n",
    "cnf_matrix = confusion_matrix(y_test,y_pred)\n",
    "np.set_printoptions(precision=2)\n",
    "\n",
    "print 'recall metric in the testing dataset:',float(cnf_matrix[1,1])/(cnf_matrix[1,0]+cnf_matrix[1,1])\n",
    "#print cnf_matrix.shape[0]\n",
    "#print cnf_matrix.shape[1]\n",
    "#print cnf_matrix.max()/2\n",
    "class_names=[0,1]\n",
    "plt.figure()\n",
    "plot_confusion_matrix(cnf_matrix,classes=class_names)\n",
    "plt.show()"
   ]
  },
  {
   "cell_type": "code",
   "execution_count": 84,
   "metadata": {
    "collapsed": false
   },
   "outputs": [
    {
     "name": "stdout",
     "output_type": "stream",
     "text": [
      "----------------\n",
      "C parameter: 0.01\n",
      "\n",
      "iteration 1 :recall score =  0.492537313433\n",
      "iteration 2 :recall score =  0.602739726027\n",
      "iteration 3 :recall score =  0.683333333333\n",
      "iteration 4 :recall score =  0.569230769231\n",
      "iteration 5 :recall score =  0.45\n",
      "\n",
      "mean recall score 0.559568228405\n",
      "\n",
      "----------------\n",
      "C parameter: 0.1\n",
      "\n",
      "iteration 1 :recall score =  0.567164179104\n",
      "iteration 2 :recall score =  0.616438356164\n",
      "iteration 3 :recall score =  0.683333333333\n",
      "iteration 4 :recall score =  0.584615384615\n",
      "iteration 5 :recall score =  0.525\n",
      "\n",
      "mean recall score 0.595310250644\n",
      "\n",
      "----------------\n",
      "C parameter: 1\n",
      "\n",
      "iteration 1 :recall score =  0.55223880597\n",
      "iteration 2 :recall score =  0.616438356164\n",
      "iteration 3 :recall score =  0.716666666667\n",
      "iteration 4 :recall score =  0.615384615385\n",
      "iteration 5 :recall score =  0.5625\n",
      "\n",
      "mean recall score 0.612645688837\n",
      "\n",
      "----------------\n",
      "C parameter: 10\n",
      "\n",
      "iteration 1 :recall score =  0.55223880597\n",
      "iteration 2 :recall score =  0.616438356164\n",
      "iteration 3 :recall score =  0.733333333333\n",
      "iteration 4 :recall score =  0.615384615385\n",
      "iteration 5 :recall score =  0.575\n",
      "\n",
      "mean recall score 0.61847902217\n",
      "\n",
      "----------------\n",
      "C parameter: 100\n",
      "\n",
      "iteration 1 :recall score =  0.55223880597\n",
      "iteration 2 :recall score =  0.616438356164\n",
      "iteration 3 :recall score =  0.733333333333\n",
      "iteration 4 :recall score =  0.615384615385\n",
      "iteration 5 :recall score =  0.575\n",
      "\n",
      "mean recall score 0.61847902217\n",
      "\n",
      "*************************\n",
      "best model to choose from cross validation is with c parameter =  10.0\n",
      "*************************\n"
     ]
    }
   ],
   "source": [
    "best_c = printing_kfold_scores(X_train,y_train)"
   ]
  },
  {
   "cell_type": "code",
   "execution_count": 85,
   "metadata": {
    "collapsed": false
   },
   "outputs": [
    {
     "name": "stdout",
     "output_type": "stream",
     "text": [
      "recall metric in the testing dataset: 0.619047619048\n"
     ]
    },
    {
     "data": {
      "image/png": "[encoded data removed]",
      "text/plain": [
       "<matplotlib.figure.Figure at 0x1247d8b50>"
      ]
     },
     "metadata": {},
     "output_type": "display_data"
    }
   ],
   "source": [
    "lr = LogisticRegression(C=best_c,penalty='l1')\n",
    "lr.fit(X_train,y_train.values.ravel())\n",
    "y_pred = lr.predict(X_test.values)\n",
    "\n",
    "#computer confusion matrix\n",
    "cnf_matrix = confusion_matrix(y_test,y_pred)\n",
    "np.set_printoptions(precision=2)\n",
    "\n",
    "print 'recall metric in the testing dataset:',float(cnf_matrix[1,1])/(cnf_matrix[1,0]+cnf_matrix[1,1])\n",
    "#print cnf_matrix.shape[0]\n",
    "#print cnf_matrix.shape[1]\n",
    "#print cnf_matrix.max()/2\n",
    "class_names=[0,1]\n",
    "plt.figure()\n",
    "plot_confusion_matrix(cnf_matrix,classes=class_names)\n",
    "plt.show()"
   ]
  },
  {
   "cell_type": "code",
   "execution_count": 86,
   "metadata": {
    "collapsed": false
   },
   "outputs": [
    {
     "name": "stdout",
     "output_type": "stream",
     "text": [
      "('Recall metric in the testing dataset: ', 1.0)\n",
      "('Recall metric in the testing dataset: ', 1.0)\n",
      "('Recall metric in the testing dataset: ', 1.0)\n",
      "('Recall metric in the testing dataset: ', 0.9727891156462585)\n",
      "('Recall metric in the testing dataset: ', 0.9387755102040817)\n",
      "('Recall metric in the testing dataset: ', 0.891156462585034)\n",
      "('Recall metric in the testing dataset: ', 0.8299319727891157)\n",
      "('Recall metric in the testing dataset: ', 0.782312925170068)\n",
      "('Recall metric in the testing dataset: ', 0.5986394557823129)\n"
     ]
    },
    {
     "data": {
      "image/png": "[encoded data removed]",
      "text/plain": [
       "<matplotlib.figure.Figure at 0x124d90690>"
      ]
     },
     "metadata": {},
     "output_type": "display_data"
    }
   ],
   "source": [
    "lr = LogisticRegression(C = 0.01, penalty = 'l1')\n",
    "lr.fit(X_train_undersample,y_train_undersample.values.ravel())\n",
    "y_pred_undersample_proba = lr.predict_proba(X_test_undersample.values)\n",
    "\n",
    "thresholds = [0.1,0.2,0.3,0.4,0.5,0.6,0.7,0.8,0.9]\n",
    "\n",
    "plt.figure(figsize=(10,10))\n",
    "\n",
    "j = 1\n",
    "for i in thresholds:\n",
    "    y_test_predictions_high_recall = y_pred_undersample_proba[:,1] > i\n",
    "    plt.subplot(3,3,j)\n",
    "    j += 1\n",
    "    \n",
    "    cnf_matrix = confusion_matrix(y_test_undersample,y_test_predictions_high_recall)\n",
    "    np.set_printoptions(precision=2)\n",
    "    print(\"Recall metric in the testing dataset: \", float(cnf_matrix[1,1])/(cnf_matrix[1,0]+cnf_matrix[1,1]))\n",
    "\n",
    "    # Plot non-normalized confusion matrix\n",
    "    class_names = [0,1]\n",
    "    plot_confusion_matrix(cnf_matrix\n",
    "                          , classes=class_names\n",
    "                          , title='Threshold >= %s'%i) \n",
    "    \n",
    "    \n",
    "    \n",
    "    \n",
    "    "
   ]
  },
  {
   "cell_type": "code",
   "execution_count": null,
   "metadata": {
    "collapsed": true
   },
   "outputs": [],
   "source": []
  }
 ],
 "metadata": {
  "kernelspec": {
   "display_name": "Python 2",
   "language": "python",
   "name": "python2"
  },
  "language_info": {
   "codemirror_mode": {
    "name": "ipython",
    "version": 2
   },
   "file_extension": ".py",
   "mimetype": "text/x-python",
   "name": "python",
   "nbconvert_exporter": "python",
   "pygments_lexer": "ipython2",
   "version": "2.7.13"
  }
 },
 "nbformat": 4,
 "nbformat_minor": 1
}
