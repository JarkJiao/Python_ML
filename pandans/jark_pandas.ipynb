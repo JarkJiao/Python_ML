{
 "cells": [
  {
   "cell_type": "code",
   "execution_count": 2,
   "metadata": {
    "collapsed": false
   },
   "outputs": [
    {
     "name": "stdout",
     "output_type": "stream",
     "text": [
      "<class 'pandas.core.frame.DataFrame'>\n",
      "NDB_No               int64\n",
      "Shrt_Desc           object\n",
      "Water_(g)          float64\n",
      "Energ_Kcal           int64\n",
      "Protein_(g)        float64\n",
      "Lipid_Tot_(g)      float64\n",
      "Ash_(g)            float64\n",
      "Carbohydrt_(g)     float64\n",
      "Fiber_TD_(g)       float64\n",
      "Sugar_Tot_(g)      float64\n",
      "Calcium_(mg)       float64\n",
      "Iron_(mg)          float64\n",
      "Magnesium_(mg)     float64\n",
      "Phosphorus_(mg)    float64\n",
      "Potassium_(mg)     float64\n",
      "Sodium_(mg)        float64\n",
      "Zinc_(mg)          float64\n",
      "Copper_(mg)        float64\n",
      "Manganese_(mg)     float64\n",
      "Selenium_(mcg)     float64\n",
      "Vit_C_(mg)         float64\n",
      "Thiamin_(mg)       float64\n",
      "Riboflavin_(mg)    float64\n",
      "Niacin_(mg)        float64\n",
      "Vit_B6_(mg)        float64\n",
      "Vit_B12_(mcg)      float64\n",
      "Vit_A_IU           float64\n",
      "Vit_A_RAE          float64\n",
      "Vit_E_(mg)         float64\n",
      "Vit_D_mcg          float64\n",
      "Vit_D_IU           float64\n",
      "Vit_K_(mcg)        float64\n",
      "FA_Sat_(g)         float64\n",
      "FA_Mono_(g)        float64\n",
      "FA_Poly_(g)        float64\n",
      "Cholestrl_(mg)     float64\n",
      "dtype: object\n"
     ]
    }
   ],
   "source": [
    "import pandas\n",
    "food_info = pandas.read_csv('food_info.csv')\n",
    "print type(food_info)\n",
    "print food_info.dtypes"
   ]
  },
  {
   "cell_type": "code",
   "execution_count": 5,
   "metadata": {
    "collapsed": false
   },
   "outputs": [
    {
     "name": "stdout",
     "output_type": "stream",
     "text": [
      "   NDB_No                 Shrt_Desc  Water_(g)  Energ_Kcal  Protein_(g)  \\\n",
      "0    1001          BUTTER WITH SALT      15.87         717         0.85   \n",
      "1    1002  BUTTER WHIPPED WITH SALT      15.87         717         0.85   \n",
      "2    1003      BUTTER OIL ANHYDROUS       0.24         876         0.28   \n",
      "\n",
      "   Lipid_Tot_(g)  Ash_(g)  Carbohydrt_(g)  Fiber_TD_(g)  Sugar_Tot_(g)  \\\n",
      "0          81.11     2.11            0.06           0.0           0.06   \n",
      "1          81.11     2.11            0.06           0.0           0.06   \n",
      "2          99.48     0.00            0.00           0.0           0.00   \n",
      "\n",
      "        ...        Vit_A_IU  Vit_A_RAE  Vit_E_(mg)  Vit_D_mcg  Vit_D_IU  \\\n",
      "0       ...          2499.0      684.0        2.32        1.5      60.0   \n",
      "1       ...          2499.0      684.0        2.32        1.5      60.0   \n",
      "2       ...          3069.0      840.0        2.80        1.8      73.0   \n",
      "\n",
      "   Vit_K_(mcg)  FA_Sat_(g)  FA_Mono_(g)  FA_Poly_(g)  Cholestrl_(mg)  \n",
      "0          7.0      51.368       21.021        3.043           215.0  \n",
      "1          7.0      50.489       23.426        3.012           219.0  \n",
      "2          8.6      61.924       28.732        3.694           256.0  \n",
      "\n",
      "[3 rows x 36 columns]\n",
      "Index([u'NDB_No', u'Shrt_Desc', u'Water_(g)', u'Energ_Kcal', u'Protein_(g)',\n",
      "       u'Lipid_Tot_(g)', u'Ash_(g)', u'Carbohydrt_(g)', u'Fiber_TD_(g)',\n",
      "       u'Sugar_Tot_(g)', u'Calcium_(mg)', u'Iron_(mg)', u'Magnesium_(mg)',\n",
      "       u'Phosphorus_(mg)', u'Potassium_(mg)', u'Sodium_(mg)', u'Zinc_(mg)',\n",
      "       u'Copper_(mg)', u'Manganese_(mg)', u'Selenium_(mcg)', u'Vit_C_(mg)',\n",
      "       u'Thiamin_(mg)', u'Riboflavin_(mg)', u'Niacin_(mg)', u'Vit_B6_(mg)',\n",
      "       u'Vit_B12_(mcg)', u'Vit_A_IU', u'Vit_A_RAE', u'Vit_E_(mg)',\n",
      "       u'Vit_D_mcg', u'Vit_D_IU', u'Vit_K_(mcg)', u'FA_Sat_(g)',\n",
      "       u'FA_Mono_(g)', u'FA_Poly_(g)', u'Cholestrl_(mg)'],\n",
      "      dtype='object')\n",
      "(8618, 36)\n"
     ]
    }
   ],
   "source": [
    "first_rows = food_info.head()\n",
    "first_rows\n",
    "print food_info.head(3)\n",
    "print food_info.columns\n",
    "print food_info.shape"
   ]
  },
  {
   "cell_type": "code",
   "execution_count": 15,
   "metadata": {
    "collapsed": false
   },
   "outputs": [
    {
     "name": "stdout",
     "output_type": "stream",
     "text": [
      "      NDB_No                                          Shrt_Desc\n",
      "0       1001                                   BUTTER WITH SALT\n",
      "1       1002                           BUTTER WHIPPED WITH SALT\n",
      "2       1003                               BUTTER OIL ANHYDROUS\n",
      "3       1004                                        CHEESE BLUE\n",
      "4       1005                                       CHEESE BRICK\n",
      "5       1006                                        CHEESE BRIE\n",
      "6       1007                                   CHEESE CAMEMBERT\n",
      "7       1008                                     CHEESE CARAWAY\n",
      "8       1009                                     CHEESE CHEDDAR\n",
      "9       1010                                    CHEESE CHESHIRE\n",
      "10      1011                                       CHEESE COLBY\n",
      "11      1012                CHEESE COTTAGE CRMD LRG OR SML CURD\n",
      "12      1013                        CHEESE COTTAGE CRMD W/FRUIT\n",
      "13      1014   CHEESE COTTAGE NONFAT UNCRMD DRY LRG OR SML CURD\n",
      "14      1015                   CHEESE COTTAGE LOWFAT 2% MILKFAT\n",
      "15      1016                   CHEESE COTTAGE LOWFAT 1% MILKFAT\n",
      "16      1017                                       CHEESE CREAM\n",
      "17      1018                                        CHEESE EDAM\n",
      "18      1019                                        CHEESE FETA\n",
      "19      1020                                     CHEESE FONTINA\n",
      "20      1021                                     CHEESE GJETOST\n",
      "21      1022                                       CHEESE GOUDA\n",
      "22      1023                                     CHEESE GRUYERE\n",
      "23      1024                                   CHEESE LIMBURGER\n",
      "24      1025                                    CHEESE MONTEREY\n",
      "25      1026                         CHEESE MOZZARELLA WHL MILK\n",
      "26      1027                CHEESE MOZZARELLA WHL MILK LO MOIST\n",
      "27      1028                   CHEESE MOZZARELLA PART SKIM MILK\n",
      "28      1029               CHEESE MOZZARELLA LO MOIST PART-SKIM\n",
      "29      1030                                    CHEESE MUENSTER\n",
      "...      ...                                                ...\n",
      "8588   43544         BABYFOOD CRL RICE W/ PEARS & APPL DRY INST\n",
      "8589   43546                     BABYFOOD BANANA NO TAPIOCA STR\n",
      "8590   43550                     BABYFOOD BANANA APPL DSSRT STR\n",
      "8591   43566       SNACKS TORTILLA CHIPS LT (BAKED W/ LESS OIL)\n",
      "8592   43570  CEREALS RTE POST HONEY BUNCHES OF OATS HONEY RSTD\n",
      "8593   43572                         POPCORN MICROWAVE LOFAT&NA\n",
      "8594   43585                       BABYFOOD FRUIT SUPREME DSSRT\n",
      "8595   43589                               CHEESE SWISS LOW FAT\n",
      "8596   43595             BREAKFAST BAR CORN FLAKE CRUST W/FRUIT\n",
      "8597   43597                            CHEESE MOZZARELLA LO NA\n",
      "8598   43598                           MAYONNAISE DRSNG NO CHOL\n",
      "8599   44005                          OIL CORN PEANUT AND OLIVE\n",
      "8600   44018                   SWEETENERS TABLETOP FRUCTOSE LIQ\n",
      "8601   44048                              CHEESE FOOD IMITATION\n",
      "8602   44055                                CELERY FLAKES DRIED\n",
      "8603   44061           PUDDINGS CHOC FLAVOR LO CAL INST DRY MIX\n",
      "8604   44074                    BABYFOOD GRAPE JUC NO SUGAR CND\n",
      "8605   44110                   JELLIES RED SUGAR HOME PRESERVED\n",
      "8606   44158                         PIE FILLINGS BLUEBERRY CND\n",
      "8607   44203               COCKTAIL MIX NON-ALCOHOLIC CONCD FRZ\n",
      "8608   44258            PUDDINGS CHOC FLAVOR LO CAL REG DRY MIX\n",
      "8609   44259  PUDDINGS ALL FLAVORS XCPT CHOC LO CAL REG DRY MIX\n",
      "8610   44260  PUDDINGS ALL FLAVORS XCPT CHOC LO CAL INST DRY...\n",
      "8611   48052                                 VITAL WHEAT GLUTEN\n",
      "8612   80200                                      FROG LEGS RAW\n",
      "8613   83110                                    MACKEREL SALTED\n",
      "8614   90240                         SCALLOP (BAY&SEA) CKD STMD\n",
      "8615   90480                                         SYRUP CANE\n",
      "8616   90560                                          SNAIL RAW\n",
      "8617   93600                                   TURTLE GREEN RAW\n",
      "\n",
      "[8618 rows x 2 columns]\n"
     ]
    }
   ],
   "source": [
    "#print food_info.loc[1]\n",
    "\n",
    "#print food_info.loc[6]\n",
    "#print food_info.loc[8620]\n",
    "#print food_info['NDB_No']\n",
    "col_name = ['NDB_No','Shrt_Desc']\n",
    "print food_info[col_name]"
   ]
  },
  {
   "cell_type": "code",
   "execution_count": 17,
   "metadata": {
    "collapsed": false
   },
   "outputs": [
    {
     "name": "stdout",
     "output_type": "stream",
     "text": [
      "['NDB_No', 'Shrt_Desc', 'Water_(g)', 'Energ_Kcal', 'Protein_(g)', 'Lipid_Tot_(g)', 'Ash_(g)', 'Carbohydrt_(g)', 'Fiber_TD_(g)', 'Sugar_Tot_(g)', 'Calcium_(mg)', 'Iron_(mg)', 'Magnesium_(mg)', 'Phosphorus_(mg)', 'Potassium_(mg)', 'Sodium_(mg)', 'Zinc_(mg)', 'Copper_(mg)', 'Manganese_(mg)', 'Selenium_(mcg)', 'Vit_C_(mg)', 'Thiamin_(mg)', 'Riboflavin_(mg)', 'Niacin_(mg)', 'Vit_B6_(mg)', 'Vit_B12_(mcg)', 'Vit_A_IU', 'Vit_A_RAE', 'Vit_E_(mg)', 'Vit_D_mcg', 'Vit_D_IU', 'Vit_K_(mcg)', 'FA_Sat_(g)', 'FA_Mono_(g)', 'FA_Poly_(g)', 'Cholestrl_(mg)']\n",
      "   Water_(g)  Protein_(g)  Lipid_Tot_(g)  Ash_(g)  Carbohydrt_(g)  \\\n",
      "0      15.87         0.85          81.11     2.11            0.06   \n",
      "1      15.87         0.85          81.11     2.11            0.06   \n",
      "2       0.24         0.28          99.48     0.00            0.00   \n",
      "\n",
      "   Fiber_TD_(g)  Sugar_Tot_(g)  FA_Sat_(g)  FA_Mono_(g)  FA_Poly_(g)  \n",
      "0           0.0           0.06      51.368       21.021        3.043  \n",
      "1           0.0           0.06      50.489       23.426        3.012  \n",
      "2           0.0           0.00      61.924       28.732        3.694  \n"
     ]
    }
   ],
   "source": [
    "col_name = food_info.columns.tolist()\n",
    "print col_name\n",
    "\n",
    "gram_name = []\n",
    "\n",
    "for c in col_name:\n",
    "    if c.endswith('(g)'):\n",
    "        gram_name.append(c)\n",
    "\n",
    "gram_df = food_info[gram_name]\n",
    "\n",
    "print gram_df.head(3)"
   ]
  },
  {
   "cell_type": "code",
   "execution_count": 21,
   "metadata": {
    "collapsed": false
   },
   "outputs": [
    {
     "name": "stdout",
     "output_type": "stream",
     "text": [
      "(8618, 37)\n",
      "(8618, 37)\n"
     ]
    }
   ],
   "source": [
    "#print food_info['Copper_(mg)']\n",
    "div_1000 = food_info['Sodium_(mg)']/1000\n",
    "#print div_1000\n",
    "print food_info.shape\n",
    "food_info['Copper_(g)'] = div_1000\n",
    "print food_info.shape\n"
   ]
  },
  {
   "cell_type": "code",
   "execution_count": 30,
   "metadata": {
    "collapsed": false
   },
   "outputs": [
    {
     "name": "stdout",
     "output_type": "stream",
     "text": [
      "4377    100.00\n",
      "4348    100.00\n",
      "4376    100.00\n",
      "4378    100.00\n",
      "4209    100.00\n",
      "4404     99.98\n",
      "4372     99.98\n",
      "4379     99.97\n",
      "4407     99.97\n",
      "4373     99.97\n",
      "4374     99.96\n",
      "4213     99.95\n",
      "4204     99.95\n",
      "4208     99.95\n",
      "4203     99.93\n",
      "4205     99.90\n",
      "4357     99.90\n",
      "4356     99.90\n",
      "4369     99.90\n",
      "4347     99.90\n",
      "4239     99.90\n",
      "4408     99.89\n",
      "4411     99.85\n",
      "4252     99.80\n",
      "4270     99.80\n",
      "4392     99.80\n",
      "4260     99.80\n",
      "4409     99.79\n",
      "4255     99.74\n",
      "4398     99.70\n",
      "         ...  \n",
      "635       0.00\n",
      "8455      0.00\n",
      "671       0.00\n",
      "790       0.00\n",
      "689       0.00\n",
      "8599      0.00\n",
      "744       0.00\n",
      "737       0.00\n",
      "711       0.00\n",
      "763       0.00\n",
      "787       0.00\n",
      "684       0.00\n",
      "665       0.00\n",
      "8509      0.00\n",
      "638       0.00\n",
      "637       0.00\n",
      "686       0.00\n",
      "8122      0.00\n",
      "634       0.00\n",
      "633       0.00\n",
      "632       0.00\n",
      "630       0.00\n",
      "629       0.00\n",
      "631       0.00\n",
      "6150       NaN\n",
      "6067       NaN\n",
      "6113       NaN\n",
      "1983       NaN\n",
      "7776       NaN\n",
      "6095       NaN\n",
      "Name: Water_(g), dtype: float64\n"
     ]
    }
   ],
   "source": [
    "food_info.sort_values('Water_(g)',inplace=True,ascending = False)\n",
    "print food_info['Water_(g)']"
   ]
  },
  {
   "cell_type": "code",
   "execution_count": 34,
   "metadata": {
    "collapsed": false
   },
   "outputs": [
    {
     "data": {
      "text/html": [
       "<div>\n",
       "<table border=\"1\" class=\"dataframe\">\n",
       "  <thead>\n",
       "    <tr style=\"text-align: right;\">\n",
       "      <th></th>\n",
       "      <th>PassengerId</th>\n",
       "      <th>Survived</th>\n",
       "      <th>Pclass</th>\n",
       "      <th>Name</th>\n",
       "      <th>Sex</th>\n",
       "      <th>Age</th>\n",
       "      <th>SibSp</th>\n",
       "      <th>Parch</th>\n",
       "      <th>Ticket</th>\n",
       "      <th>Fare</th>\n",
       "      <th>Cabin</th>\n",
       "      <th>Embarked</th>\n",
       "    </tr>\n",
       "  </thead>\n",
       "  <tbody>\n",
       "    <tr>\n",
       "      <th>0</th>\n",
       "      <td>1</td>\n",
       "      <td>0</td>\n",
       "      <td>3</td>\n",
       "      <td>Braund, Mr. Owen Harris</td>\n",
       "      <td>male</td>\n",
       "      <td>22.0</td>\n",
       "      <td>1</td>\n",
       "      <td>0</td>\n",
       "      <td>A/5 21171</td>\n",
       "      <td>7.2500</td>\n",
       "      <td>NaN</td>\n",
       "      <td>S</td>\n",
       "    </tr>\n",
       "    <tr>\n",
       "      <th>1</th>\n",
       "      <td>2</td>\n",
       "      <td>1</td>\n",
       "      <td>1</td>\n",
       "      <td>Cumings, Mrs. John Bradley (Florence Briggs Th...</td>\n",
       "      <td>female</td>\n",
       "      <td>38.0</td>\n",
       "      <td>1</td>\n",
       "      <td>0</td>\n",
       "      <td>PC 17599</td>\n",
       "      <td>71.2833</td>\n",
       "      <td>C85</td>\n",
       "      <td>C</td>\n",
       "    </tr>\n",
       "    <tr>\n",
       "      <th>2</th>\n",
       "      <td>3</td>\n",
       "      <td>1</td>\n",
       "      <td>3</td>\n",
       "      <td>Heikkinen, Miss. Laina</td>\n",
       "      <td>female</td>\n",
       "      <td>26.0</td>\n",
       "      <td>0</td>\n",
       "      <td>0</td>\n",
       "      <td>STON/O2. 3101282</td>\n",
       "      <td>7.9250</td>\n",
       "      <td>NaN</td>\n",
       "      <td>S</td>\n",
       "    </tr>\n",
       "    <tr>\n",
       "      <th>3</th>\n",
       "      <td>4</td>\n",
       "      <td>1</td>\n",
       "      <td>1</td>\n",
       "      <td>Futrelle, Mrs. Jacques Heath (Lily May Peel)</td>\n",
       "      <td>female</td>\n",
       "      <td>35.0</td>\n",
       "      <td>1</td>\n",
       "      <td>0</td>\n",
       "      <td>113803</td>\n",
       "      <td>53.1000</td>\n",
       "      <td>C123</td>\n",
       "      <td>S</td>\n",
       "    </tr>\n",
       "    <tr>\n",
       "      <th>4</th>\n",
       "      <td>5</td>\n",
       "      <td>0</td>\n",
       "      <td>3</td>\n",
       "      <td>Allen, Mr. William Henry</td>\n",
       "      <td>male</td>\n",
       "      <td>35.0</td>\n",
       "      <td>0</td>\n",
       "      <td>0</td>\n",
       "      <td>373450</td>\n",
       "      <td>8.0500</td>\n",
       "      <td>NaN</td>\n",
       "      <td>S</td>\n",
       "    </tr>\n",
       "  </tbody>\n",
       "</table>\n",
       "</div>"
      ],
      "text/plain": [
       "   PassengerId  Survived  Pclass  \\\n",
       "0            1         0       3   \n",
       "1            2         1       1   \n",
       "2            3         1       3   \n",
       "3            4         1       1   \n",
       "4            5         0       3   \n",
       "\n",
       "                                                Name     Sex   Age  SibSp  \\\n",
       "0                            Braund, Mr. Owen Harris    male  22.0      1   \n",
       "1  Cumings, Mrs. John Bradley (Florence Briggs Th...  female  38.0      1   \n",
       "2                             Heikkinen, Miss. Laina  female  26.0      0   \n",
       "3       Futrelle, Mrs. Jacques Heath (Lily May Peel)  female  35.0      1   \n",
       "4                           Allen, Mr. William Henry    male  35.0      0   \n",
       "\n",
       "   Parch            Ticket     Fare Cabin Embarked  \n",
       "0      0         A/5 21171   7.2500   NaN        S  \n",
       "1      0          PC 17599  71.2833   C85        C  \n",
       "2      0  STON/O2. 3101282   7.9250   NaN        S  \n",
       "3      0            113803  53.1000  C123        S  \n",
       "4      0            373450   8.0500   NaN        S  "
      ]
     },
     "execution_count": 34,
     "metadata": {},
     "output_type": "execute_result"
    }
   ],
   "source": [
    "import numpy as np\n",
    "import pandas as pd\n",
    "titanic_survival = pd.read_csv('titanic_train.csv')\n",
    "titanic_survival.head()"
   ]
  },
  {
   "cell_type": "code",
   "execution_count": 45,
   "metadata": {
    "collapsed": false
   },
   "outputs": [],
   "source": [
    "age = titanic_survival['Age']\n",
    "#print age.loc[0:10]\n",
    "age_is_null = pd.isnull(age)\n",
    "#print age_is_null\n",
    "age_is_true = age[age_is_null]\n",
    "#print age_is_true\n",
    "age_is_count = len(age_is_true)\n",
    "#print age_is_count"
   ]
  },
  {
   "cell_type": "code",
   "execution_count": 39,
   "metadata": {
    "collapsed": false
   },
   "outputs": [
    {
     "name": "stdout",
     "output_type": "stream",
     "text": [
      "nan\n"
     ]
    }
   ],
   "source": [
    "mean_age = sum(titanic_survival['Age'])/len(titanic_survival['Age'])\n",
    "print mean_age"
   ]
  },
  {
   "cell_type": "code",
   "execution_count": 42,
   "metadata": {
    "collapsed": false
   },
   "outputs": [
    {
     "name": "stdout",
     "output_type": "stream",
     "text": [
      "29.6991176471\n"
     ]
    }
   ],
   "source": [
    "good_age = titanic_survival['Age'][age_is_null == False]\n",
    "#print good_age\n",
    "correct_mean_age = sum(good_age)/len(good_age)\n",
    "print correct_mean_age"
   ]
  },
  {
   "cell_type": "code",
   "execution_count": 44,
   "metadata": {
    "collapsed": false
   },
   "outputs": [
    {
     "name": "stdout",
     "output_type": "stream",
     "text": [
      "29.6991176471\n"
     ]
    }
   ],
   "source": [
    "correct_mean_age_test = titanic_survival['Age'].mean()\n",
    "print correct_mean_age_test"
   ]
  },
  {
   "cell_type": "code",
   "execution_count": 46,
   "metadata": {
    "collapsed": false
   },
   "outputs": [
    {
     "name": "stdout",
     "output_type": "stream",
     "text": [
      "{1: 84.15468749999992, 2: 20.66218315217391, 3: 13.675550101832997}\n"
     ]
    }
   ],
   "source": [
    "passenger_class = [1,2,3]\n",
    "meanfare_by_class = {}\n",
    "\n",
    "for m in passenger_class:\n",
    "    pclass_row = titanic_survival[titanic_survival['Pclass'] == m]\n",
    "    pclass_fare = pclass_row['Fare']\n",
    "    meanfare_by_class_m = pclass_fare.mean()\n",
    "    meanfare_by_class[m] = meanfare_by_class_m\n",
    "print meanfare_by_class"
   ]
  },
  {
   "cell_type": "code",
   "execution_count": 48,
   "metadata": {
    "collapsed": false
   },
   "outputs": [
    {
     "name": "stdout",
     "output_type": "stream",
     "text": [
      "Pclass\n",
      "1    0.629630\n",
      "2    0.472826\n",
      "3    0.242363\n",
      "Name: Survived, dtype: float64\n"
     ]
    }
   ],
   "source": [
    "passenger_mean_survival = titanic_survival.pivot_table(index='Pclass',values='Survived',aggfunc=np.mean)\n",
    "print passenger_mean_survival"
   ]
  },
  {
   "cell_type": "code",
   "execution_count": 52,
   "metadata": {
    "collapsed": false
   },
   "outputs": [
    {
     "name": "stdout",
     "output_type": "stream",
     "text": [
      "Pclass\n",
      "1    38.233441\n",
      "2    29.877630\n",
      "3    25.140620\n",
      "Name: Age, dtype: float64\n"
     ]
    }
   ],
   "source": [
    "passenger_age = titanic_survival.pivot_table(index='Pclass',values='Age')\n",
    "print passenger_age"
   ]
  },
  {
   "cell_type": "code",
   "execution_count": 53,
   "metadata": {
    "collapsed": false
   },
   "outputs": [
    {
     "name": "stdout",
     "output_type": "stream",
     "text": [
      "                Fare  Survived\n",
      "Embarked                      \n",
      "C         10072.2962        93\n",
      "Q          1022.2543        30\n",
      "S         17439.3988       217\n"
     ]
    }
   ],
   "source": [
    "port_status = titanic_survival.pivot_table(index='Embarked',values=['Fare','Survived'],aggfunc=np.sum)\n",
    "print port_status"
   ]
  },
  {
   "cell_type": "code",
   "execution_count": 55,
   "metadata": {
    "collapsed": false
   },
   "outputs": [],
   "source": [
    "new_titanic_survival = titanic_survival.dropna(axis=0,subset=['Age','Sex'])\n",
    "#print new_titanic_survival"
   ]
  },
  {
   "cell_type": "code",
   "execution_count": 57,
   "metadata": {
    "collapsed": false
   },
   "outputs": [
    {
     "name": "stdout",
     "output_type": "stream",
     "text": [
      "28.0\n",
      "1\n"
     ]
    }
   ],
   "source": [
    "row_index_83_age = titanic_survival.loc[83,'Age']\n",
    "row_index_766_pcalss = titanic_survival.loc[766,'Pclass']\n",
    "print row_index_83_age\n",
    "print row_index_766_pcalss"
   ]
  },
  {
   "cell_type": "code",
   "execution_count": 62,
   "metadata": {
    "collapsed": false
   },
   "outputs": [
    {
     "name": "stdout",
     "output_type": "stream",
     "text": [
      "     PassengerId  Survived  Pclass                                  Name  \\\n",
      "630          631         1       1  Barkworth, Mr. Algernon Henry Wilson   \n",
      "851          852         0       3                   Svensson, Mr. Johan   \n",
      "493          494         0       1               Artagaveytia, Mr. Ramon   \n",
      "96            97         0       1             Goldschmidt, Mr. George B   \n",
      "116          117         0       3                  Connors, Mr. Patrick   \n",
      "672          673         0       2           Mitchell, Mr. Henry Michael   \n",
      "745          746         0       1          Crosby, Capt. Edward Gifford   \n",
      "33            34         0       2                 Wheadon, Mr. Edward H   \n",
      "54            55         0       1        Ostby, Mr. Engelhart Cornelius   \n",
      "280          281         0       3                      Duane, Mr. Frank   \n",
      "\n",
      "      Sex   Age  SibSp  Parch      Ticket     Fare Cabin Embarked  \n",
      "630  male  80.0      0      0       27042  30.0000   A23        S  \n",
      "851  male  74.0      0      0      347060   7.7750   NaN        S  \n",
      "493  male  71.0      0      0    PC 17609  49.5042   NaN        C  \n",
      "96   male  71.0      0      0    PC 17754  34.6542    A5        C  \n",
      "116  male  70.5      0      0      370369   7.7500   NaN        Q  \n",
      "672  male  70.0      0      0  C.A. 24580  10.5000   NaN        S  \n",
      "745  male  70.0      1      1   WE/P 5735  71.0000   B22        S  \n",
      "33   male  66.0      0      0  C.A. 24579  10.5000   NaN        S  \n",
      "54   male  65.0      0      1      113509  61.9792   B30        C  \n",
      "280  male  65.0      0      0      336439   7.7500   NaN        Q  \n",
      "-----------------------------\n",
      "    PassengerId  Survived  Pclass                                  Name   Sex  \\\n",
      "0           631         1       1  Barkworth, Mr. Algernon Henry Wilson  male   \n",
      "1           852         0       3                   Svensson, Mr. Johan  male   \n",
      "2           494         0       1               Artagaveytia, Mr. Ramon  male   \n",
      "3            97         0       1             Goldschmidt, Mr. George B  male   \n",
      "4           117         0       3                  Connors, Mr. Patrick  male   \n",
      "5           673         0       2           Mitchell, Mr. Henry Michael  male   \n",
      "6           746         0       1          Crosby, Capt. Edward Gifford  male   \n",
      "7            34         0       2                 Wheadon, Mr. Edward H  male   \n",
      "8            55         0       1        Ostby, Mr. Engelhart Cornelius  male   \n",
      "9           281         0       3                      Duane, Mr. Frank  male   \n",
      "10          457         0       1             Millet, Mr. Francis Davis  male   \n",
      "\n",
      "     Age  SibSp  Parch      Ticket     Fare Cabin Embarked  \n",
      "0   80.0      0      0       27042  30.0000   A23        S  \n",
      "1   74.0      0      0      347060   7.7750   NaN        S  \n",
      "2   71.0      0      0    PC 17609  49.5042   NaN        C  \n",
      "3   71.0      0      0    PC 17754  34.6542    A5        C  \n",
      "4   70.5      0      0      370369   7.7500   NaN        Q  \n",
      "5   70.0      0      0  C.A. 24580  10.5000   NaN        S  \n",
      "6   70.0      1      1   WE/P 5735  71.0000   B22        S  \n",
      "7   66.0      0      0  C.A. 24579  10.5000   NaN        S  \n",
      "8   65.0      0      1      113509  61.9792   B30        C  \n",
      "9   65.0      0      0      336439   7.7500   NaN        Q  \n",
      "10  65.0      0      0       13509  26.5500   E38        S  \n"
     ]
    }
   ],
   "source": [
    "sort_titanic_survival = titanic_survival.sort_values('Age',ascending=False)\n",
    "print sort_titanic_survival.iloc[0:10]\n",
    "print '-----------------------------'\n",
    "sort_titanic_survival_reindex = sort_titanic_survival.reset_index(drop = True)\n",
    "print sort_titanic_survival_reindex.loc[0:10]"
   ]
  },
  {
   "cell_type": "code",
   "execution_count": 63,
   "metadata": {
    "collapsed": false
   },
   "outputs": [
    {
     "name": "stdout",
     "output_type": "stream",
     "text": [
      "PassengerId                  100\n",
      "Survived                       0\n",
      "Pclass                         2\n",
      "Name           Kantor, Mr. Sinai\n",
      "Sex                         male\n",
      "Age                           34\n",
      "SibSp                          1\n",
      "Parch                          0\n",
      "Ticket                    244367\n",
      "Fare                          26\n",
      "Cabin                        NaN\n",
      "Embarked                       S\n",
      "dtype: object\n"
     ]
    }
   ],
   "source": [
    "def hundredth_row(column):\n",
    "    hundredth_item = column.loc[99]\n",
    "    return hundredth_item\n",
    "hundredth_row = titanic_survival.apply(hundredth_row)\n",
    "print hundredth_row"
   ]
  },
  {
   "cell_type": "code",
   "execution_count": 64,
   "metadata": {
    "collapsed": false
   },
   "outputs": [
    {
     "name": "stdout",
     "output_type": "stream",
     "text": [
      "PassengerId      0\n",
      "Survived         0\n",
      "Pclass           0\n",
      "Name             0\n",
      "Sex              0\n",
      "Age            177\n",
      "SibSp            0\n",
      "Parch            0\n",
      "Ticket           0\n",
      "Fare             0\n",
      "Cabin          687\n",
      "Embarked         2\n",
      "dtype: int64\n"
     ]
    }
   ],
   "source": [
    "def isnull_count(column):\n",
    "    column_null = pd.isnull(column)\n",
    "    null = column[column_null]\n",
    "    return len(null)\n",
    "column_null_count = titanic_survival.apply(isnull_count)\n",
    "print column_null_count"
   ]
  },
  {
   "cell_type": "code",
   "execution_count": 71,
   "metadata": {
    "collapsed": false
   },
   "outputs": [
    {
     "name": "stdout",
     "output_type": "stream",
     "text": [
      "<class 'pandas.core.series.Series'>\n",
      "<class 'pandas.core.frame.DataFrame'>\n",
      "0    Avengers: Age of Ultron (2015)\n",
      "1                 Cinderella (2015)\n",
      "2                    Ant-Man (2015)\n",
      "3            Do You Believe? (2015)\n",
      "4     Hot Tub Time Machine 2 (2015)\n",
      "Name: FILM, dtype: object\n",
      "0    74\n",
      "1    85\n",
      "2    80\n",
      "3    18\n",
      "4    14\n",
      "Name: RottenTomatoes, dtype: int64\n"
     ]
    }
   ],
   "source": [
    "import pandas as pd\n",
    "findango = pd.read_csv('fandango_score_comparison.csv')\n",
    "series_film = findango['FILM']\n",
    "print type(series_film)\n",
    "print type(findango)\n",
    "print series_film[0:5]\n",
    "findango.head()\n",
    "series_rt = findango['RottenTomatoes']\n",
    "print findango['RottenTomatoes'][0:5]"
   ]
  },
  {
   "cell_type": "code",
   "execution_count": 86,
   "metadata": {
    "collapsed": false
   },
   "outputs": [
    {
     "name": "stdout",
     "output_type": "stream",
     "text": [
      "<type 'numpy.ndarray'>\n"
     ]
    },
    {
     "data": {
      "text/plain": [
       "The Water Diviner (2015)        63\n",
       "Irrational Man (2015)           42\n",
       "Top Five (2014)                 86\n",
       "Shaun the Sheep Movie (2015)    99\n",
       "Love & Mercy (2015)             89\n",
       "dtype: int64"
      ]
     },
     "execution_count": 86,
     "metadata": {},
     "output_type": "execute_result"
    }
   ],
   "source": [
    "from pandas import Series\n",
    "film_name = series_film.values\n",
    "print type(film_name)\n",
    "#print film_name\n",
    "film_sorce = series_rt.values\n",
    "series_custom = Series(film_sorce,index=film_name)\n",
    "series_custom[['Avengers: Age of Ultron (2015)','Cinderella (2015)']]\n",
    "#series_custom = Series(film_name,index=film_sorce)\n",
    "series_custom[5:10]"
   ]
  },
  {
   "cell_type": "code",
   "execution_count": 114,
   "metadata": {
    "collapsed": false
   },
   "outputs": [
    {
     "name": "stdout",
     "output_type": "stream",
     "text": [
      "<class 'pandas.core.series.Series'>\n",
      "<type 'list'>\n",
      "<built-in method index of list object at 0x10d6cd710>\n",
      "Index([u''71 (2015)', u'5 Flights Up (2015)', u'A Little Chaos (2015)',\n",
      "       u'A Most Violent Year (2014)', u'About Elly (2015)', u'Aloha (2015)',\n",
      "       u'American Sniper (2015)', u'American Ultra (2015)', u'Amy (2015)',\n",
      "       u'Annie (2014)',\n",
      "       ...\n",
      "       u'Unbroken (2014)', u'Unfinished Business (2015)', u'Unfriended (2015)',\n",
      "       u'Vacation (2015)', u'Welcome to Me (2015)',\n",
      "       u'What We Do in the Shadows (2015)', u'When Marnie Was There (2015)',\n",
      "       u'While We're Young (2015)', u'Wild Tales (2014)',\n",
      "       u'Woman in Gold (2015)'],\n",
      "      dtype='object', length=146)\n"
     ]
    }
   ],
   "source": [
    "original_index = series_custom.index.tolist()\n",
    "print type(series_custom)\n",
    "#print original_index\n",
    "print type(original_index)\n",
    "sort_index = sorted(original_index)\n",
    "#print series_custom[sort_index]\n",
    "print sort_index.index\n",
    "sort_by_index = series_custom.reindex(sort_index)\n",
    "print sort_by_index.index"
   ]
  },
  {
   "cell_type": "code",
   "execution_count": 105,
   "metadata": {
    "collapsed": false
   },
   "outputs": [
    {
     "name": "stdout",
     "output_type": "stream",
     "text": [
      "100\n"
     ]
    }
   ],
   "source": [
    "#print np.add(sort_by_index,sort_by_index)\n",
    "#print np.sin(sort_by_index)\n",
    "print np.max(sort_by_index)"
   ]
  },
  {
   "cell_type": "code",
   "execution_count": 108,
   "metadata": {
    "collapsed": false
   },
   "outputs": [
    {
     "name": "stdout",
     "output_type": "stream",
     "text": [
      "Shaun the Sheep Movie (2015)                   99\n",
      "Leviathan (2014)                               99\n",
      "Selma (2014)                                   99\n",
      "Ex Machina (2015)                              92\n",
      "Wild Tales (2014)                              96\n",
      "The End of the Tour (2015)                     92\n",
      "Red Army (2015)                                96\n",
      "The Hunting Ground (2015)                      92\n",
      "I'll See You In My Dreams (2015)               94\n",
      "Timbuktu (2015)                                99\n",
      "About Elly (2015)                              97\n",
      "The Diary of a Teenage Girl (2015)             95\n",
      "Birdman (2014)                                 92\n",
      "The Gift (2015)                                93\n",
      "Monkey Kingdom (2015)                          94\n",
      "Mr. Turner (2014)                              98\n",
      "The Wrecking Crew (2015)                       93\n",
      "Mad Max: Fury Road (2015)                      97\n",
      "Spy (2015)                                     93\n",
      "Paddington (2015)                              98\n",
      "What We Do in the Shadows (2015)               96\n",
      "The Salt of the Earth (2015)                   96\n",
      "Song of the Sea (2014)                         99\n",
      "It Follows (2015)                              96\n",
      "Phoenix (2015)                                 99\n",
      "Tangerine (2015)                               95\n",
      "Mission: Impossible â€“ Rogue Nation (2015)    92\n",
      "Amy (2015)                                     97\n",
      "Inside Out (2015)                              98\n",
      "'71 (2015)                                     97\n",
      "Two Days, One Night (2014)                     97\n",
      "dtype: int64\n"
     ]
    }
   ],
   "source": [
    "series_greater_than_50 = series_custom[series_custom>50]\n",
    "#print series_greater_than_50\n",
    "where_1 = series_custom>90\n",
    "where_2 = series_custom<100\n",
    "both_series = series_custom[where_1 & where_2]\n",
    "print both_series"
   ]
  },
  {
   "cell_type": "code",
   "execution_count": 111,
   "metadata": {
    "collapsed": false
   },
   "outputs": [
    {
     "name": "stdout",
     "output_type": "stream",
     "text": [
      "FILM\n",
      "Avengers: Age of Ultron (2015)                    80.0\n",
      "Cinderella (2015)                                 82.5\n",
      "Ant-Man (2015)                                    85.0\n",
      "Do You Believe? (2015)                            51.0\n",
      "Hot Tub Time Machine 2 (2015)                     21.0\n",
      "The Water Diviner (2015)                          62.5\n",
      "Irrational Man (2015)                             47.5\n",
      "Top Five (2014)                                   75.0\n",
      "Shaun the Sheep Movie (2015)                      90.5\n",
      "Love & Mercy (2015)                               88.0\n",
      "Far From The Madding Crowd (2015)                 80.5\n",
      "Black Sea (2015)                                  71.0\n",
      "Leviathan (2014)                                  89.0\n",
      "Unbroken (2014)                                   60.5\n",
      "The Imitation Game (2014)                         91.0\n",
      "Taken 3 (2015)                                    27.5\n",
      "Ted 2 (2015)                                      52.0\n",
      "Southpaw (2015)                                   69.5\n",
      "Night at the Museum: Secret of the Tomb (2014)    54.0\n",
      "Pixels (2015)                                     35.5\n",
      "McFarland, USA (2015)                             84.0\n",
      "Insidious: Chapter 3 (2015)                       57.5\n",
      "The Man From U.N.C.L.E. (2015)                    74.0\n",
      "Run All Night (2015)                              59.5\n",
      "Trainwreck (2015)                                 79.5\n",
      "Selma (2014)                                      92.5\n",
      "Ex Machina (2015)                                 89.0\n",
      "Still Alice (2015)                                86.5\n",
      "Wild Tales (2014)                                 94.0\n",
      "The End of the Tour (2015)                        90.5\n",
      "                                                  ... \n",
      "Clouds of Sils Maria (2015)                       78.0\n",
      "Testament of Youth (2015)                         80.0\n",
      "Infinitely Polar Bear (2015)                      78.0\n",
      "Phoenix (2015)                                    90.0\n",
      "The Wolfpack (2015)                               78.5\n",
      "The Stanford Prison Experiment (2015)             85.5\n",
      "Tangerine (2015)                                  90.5\n",
      "Magic Mike XXL (2015)                             63.0\n",
      "Home (2015)                                       55.0\n",
      "The Wedding Ringer (2015)                         46.5\n",
      "Woman in Gold (2015)                              66.5\n",
      "The Last Five Years (2015)                        60.0\n",
      "Mission: Impossible â€“ Rogue Nation (2015)       91.0\n",
      "Amy (2015)                                        94.0\n",
      "Jurassic World (2015)                             76.0\n",
      "Minions (2015)                                    53.0\n",
      "Max (2015)                                        54.0\n",
      "Paul Blart: Mall Cop 2 (2015)                     20.5\n",
      "The Longest Ride (2015)                           52.0\n",
      "The Lazarus Effect (2015)                         18.5\n",
      "The Woman In Black 2 Angel of Death (2015)        23.5\n",
      "Danny Collins (2015)                              76.0\n",
      "Spare Parts (2015)                                67.5\n",
      "Serena (2015)                                     21.5\n",
      "Inside Out (2015)                                 94.0\n",
      "Mr. Holmes (2015)                                 82.5\n",
      "'71 (2015)                                        89.5\n",
      "Two Days, One Night (2014)                        87.5\n",
      "Gett: The Trial of Viviane Amsalem (2015)         90.5\n",
      "Kumiko, The Treasure Hunter (2015)                75.0\n",
      "dtype: float64\n"
     ]
    }
   ],
   "source": [
    "rt_critics = Series(findango['RottenTomatoes'].values,index=findango['FILM'])\n",
    "rt_user = Series(findango['RottenTomatoes_User'].values,index=findango['FILM'])\n",
    "rt_mean = (rt_critics + rt_user) / 2\n",
    "print rt_mean"
   ]
  },
  {
   "cell_type": "code",
   "execution_count": 113,
   "metadata": {
    "collapsed": false
   },
   "outputs": [
    {
     "name": "stdout",
     "output_type": "stream",
     "text": [
      "<class 'pandas.core.frame.DataFrame'>\n",
      "Index([u'Avengers: Age of Ultron (2015)', u'Cinderella (2015)',\n",
      "       u'Ant-Man (2015)', u'Do You Believe? (2015)',\n",
      "       u'Hot Tub Time Machine 2 (2015)', u'The Water Diviner (2015)',\n",
      "       u'Irrational Man (2015)', u'Top Five (2014)',\n",
      "       u'Shaun the Sheep Movie (2015)', u'Love & Mercy (2015)',\n",
      "       ...\n",
      "       u'The Woman In Black 2 Angel of Death (2015)', u'Danny Collins (2015)',\n",
      "       u'Spare Parts (2015)', u'Serena (2015)', u'Inside Out (2015)',\n",
      "       u'Mr. Holmes (2015)', u''71 (2015)', u'Two Days, One Night (2014)',\n",
      "       u'Gett: The Trial of Viviane Amsalem (2015)',\n",
      "       u'Kumiko, The Treasure Hunter (2015)'],\n",
      "      dtype='object', name=u'FILM', length=146)\n"
     ]
    }
   ],
   "source": [
    "fandango = pd.read_csv('fandango_score_comparison.csv')\n",
    "print type(fandango)\n",
    "fandango_films = fandango.set_index('FILM',drop=False)\n",
    "print fandango_films.index"
   ]
  },
  {
   "cell_type": "code",
   "execution_count": 122,
   "metadata": {
    "collapsed": false
   },
   "outputs": [
    {
     "name": "stdout",
     "output_type": "stream",
     "text": [
      "Metacritic_User               1.505529\n",
      "IMDB                          0.955447\n",
      "Fandango_Stars                0.538532\n",
      "Fandango_Ratingvalue          0.501106\n",
      "RT_norm                       1.503265\n",
      "RT_user_norm                  0.997787\n",
      "Metacritic_norm               0.972522\n",
      "Metacritic_user_nom           0.752765\n",
      "IMDB_norm                     0.477723\n",
      "RT_norm_round                 1.509404\n",
      "RT_user_norm_round            1.003559\n",
      "Metacritic_norm_round         0.987561\n",
      "Metacritic_user_norm_round    0.785412\n",
      "IMDB_norm_round               0.501043\n",
      "Fandango_Difference           0.152141\n",
      "dtype: float64\n"
     ]
    }
   ],
   "source": [
    "#print fandango_films.dtypes\n",
    "types = fandango_films.dtypes\n",
    "float_types = types[types.values == 'float64'].index\n",
    "float_column = fandango_films[float_types]\n",
    "#print float_column\n",
    "deviations = float_column.apply(lambda x: np.std(x))\n",
    "print deviations"
   ]
  },
  {
   "cell_type": "code",
   "execution_count": 124,
   "metadata": {
    "collapsed": false
   },
   "outputs": [
    {
     "data": {
      "text/plain": [
       "FILM\n",
       "Avengers: Age of Ultron (2015)                    0.375\n",
       "Cinderella (2015)                                 0.125\n",
       "Ant-Man (2015)                                    0.225\n",
       "Do You Believe? (2015)                            0.925\n",
       "Hot Tub Time Machine 2 (2015)                     0.150\n",
       "The Water Diviner (2015)                          0.150\n",
       "Irrational Man (2015)                             0.575\n",
       "Top Five (2014)                                   0.100\n",
       "Shaun the Sheep Movie (2015)                      0.150\n",
       "Love & Mercy (2015)                               0.050\n",
       "Far From The Madding Crowd (2015)                 0.050\n",
       "Black Sea (2015)                                  0.150\n",
       "Leviathan (2014)                                  0.175\n",
       "Unbroken (2014)                                   0.125\n",
       "The Imitation Game (2014)                         0.250\n",
       "Taken 3 (2015)                                    0.000\n",
       "Ted 2 (2015)                                      0.175\n",
       "Southpaw (2015)                                   0.050\n",
       "Night at the Museum: Secret of the Tomb (2014)    0.000\n",
       "Pixels (2015)                                     0.025\n",
       "McFarland, USA (2015)                             0.425\n",
       "Insidious: Chapter 3 (2015)                       0.325\n",
       "The Man From U.N.C.L.E. (2015)                    0.025\n",
       "Run All Night (2015)                              0.350\n",
       "Trainwreck (2015)                                 0.350\n",
       "Selma (2014)                                      0.375\n",
       "Ex Machina (2015)                                 0.175\n",
       "Still Alice (2015)                                0.175\n",
       "Wild Tales (2014)                                 0.100\n",
       "The End of the Tour (2015)                        0.350\n",
       "                                                  ...  \n",
       "Clouds of Sils Maria (2015)                       0.100\n",
       "Testament of Youth (2015)                         0.000\n",
       "Infinitely Polar Bear (2015)                      0.075\n",
       "Phoenix (2015)                                    0.025\n",
       "The Wolfpack (2015)                               0.075\n",
       "The Stanford Prison Experiment (2015)             0.050\n",
       "Tangerine (2015)                                  0.325\n",
       "Magic Mike XXL (2015)                             0.250\n",
       "Home (2015)                                       0.200\n",
       "The Wedding Ringer (2015)                         0.825\n",
       "Woman in Gold (2015)                              0.225\n",
       "The Last Five Years (2015)                        0.225\n",
       "Mission: Impossible â€“ Rogue Nation (2015)       0.250\n",
       "Amy (2015)                                        0.075\n",
       "Jurassic World (2015)                             0.275\n",
       "Minions (2015)                                    0.125\n",
       "Max (2015)                                        0.350\n",
       "Paul Blart: Mall Cop 2 (2015)                     0.300\n",
       "The Longest Ride (2015)                           0.625\n",
       "The Lazarus Effect (2015)                         0.650\n",
       "The Woman In Black 2 Angel of Death (2015)        0.475\n",
       "Danny Collins (2015)                              0.100\n",
       "Spare Parts (2015)                                0.300\n",
       "Serena (2015)                                     0.700\n",
       "Inside Out (2015)                                 0.025\n",
       "Mr. Holmes (2015)                                 0.025\n",
       "'71 (2015)                                        0.175\n",
       "Two Days, One Night (2014)                        0.250\n",
       "Gett: The Trial of Viviane Amsalem (2015)         0.200\n",
       "Kumiko, The Treasure Hunter (2015)                0.025\n",
       "dtype: float64"
      ]
     },
     "execution_count": 124,
     "metadata": {},
     "output_type": "execute_result"
    }
   ],
   "source": [
    "rt_mt_user = float_column[['RT_user_norm','Metacritic_user_nom']]\n",
    "rt_mt_user.apply(lambda x : np.std(x),axis = 1)"
   ]
  },
  {
   "cell_type": "code",
   "execution_count": null,
   "metadata": {
    "collapsed": true
   },
   "outputs": [],
   "source": []
  }
 ],
 "metadata": {
  "kernelspec": {
   "display_name": "Python 2",
   "language": "python",
   "name": "python2"
  },
  "language_info": {
   "codemirror_mode": {
    "name": "ipython",
    "version": 2
   },
   "file_extension": ".py",
   "mimetype": "text/x-python",
   "name": "python",
   "nbconvert_exporter": "python",
   "pygments_lexer": "ipython2",
   "version": "2.7.13"
  }
 },
 "nbformat": 4,
 "nbformat_minor": 2
}
