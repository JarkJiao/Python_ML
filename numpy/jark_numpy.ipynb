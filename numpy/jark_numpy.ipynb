{
 "cells": [
  {
   "cell_type": "code",
   "execution_count": 1,
   "metadata": {
    "collapsed": false
   },
   "outputs": [
    {
     "name": "stdout",
     "output_type": "stream",
     "text": [
      "hello world\n"
     ]
    }
   ],
   "source": [
    "print 'hello world'"
   ]
  },
  {
   "cell_type": "code",
   "execution_count": 2,
   "metadata": {
    "collapsed": true
   },
   "outputs": [],
   "source": [
    "jark1=365\n",
    "jark2=366"
   ]
  },
  {
   "cell_type": "code",
   "execution_count": 3,
   "metadata": {
    "collapsed": false
   },
   "outputs": [
    {
     "name": "stdout",
     "output_type": "stream",
     "text": [
      "365\n",
      "366\n"
     ]
    }
   ],
   "source": [
    "print jark1\n",
    "print jark2"
   ]
  },
  {
   "cell_type": "code",
   "execution_count": 4,
   "metadata": {
    "collapsed": false
   },
   "outputs": [
    {
     "name": "stdout",
     "output_type": "stream",
     "text": [
      "<type 'int'>\n"
     ]
    }
   ],
   "source": [
    "print type(jark1)\n"
   ]
  },
  {
   "cell_type": "code",
   "execution_count": 5,
   "metadata": {
    "collapsed": false
   },
   "outputs": [
    {
     "ename": "ValueError",
     "evalue": "invalid literal for int() with base 10: 'test'",
     "output_type": "error",
     "traceback": [
      "\u001b[0;31m---------------------------------------------------------------------------\u001b[0m",
      "\u001b[0;31mValueError\u001b[0m                                Traceback (most recent call last)",
      "\u001b[0;32m<ipython-input-5-4f289782d0cf>\u001b[0m in \u001b[0;36m<module>\u001b[0;34m()\u001b[0m\n\u001b[0;32m----> 1\u001b[0;31m \u001b[0mjark\u001b[0m \u001b[0;34m=\u001b[0m \u001b[0mint\u001b[0m\u001b[0;34m(\u001b[0m\u001b[0;34m'test'\u001b[0m\u001b[0;34m)\u001b[0m\u001b[0;34m\u001b[0m\u001b[0m\n\u001b[0m\u001b[1;32m      2\u001b[0m \u001b[0;32mprint\u001b[0m \u001b[0mjark\u001b[0m\u001b[0;34m\u001b[0m\u001b[0m\n",
      "\u001b[0;31mValueError\u001b[0m: invalid literal for int() with base 10: 'test'"
     ]
    }
   ],
   "source": [
    "jark = int('test')\n",
    "print jark\n"
   ]
  },
  {
   "cell_type": "code",
   "execution_count": 6,
   "metadata": {
    "collapsed": false
   },
   "outputs": [
    {
     "name": "stdout",
     "output_type": "stream",
     "text": [
      "[1, 2, 3, 4, 5]\n",
      "[1, 2, 3, 4, 5]\n",
      "[1, 2, 3, 4, 5]\n",
      "[1, 2, 3, 4, 5]\n",
      "[1, 2, 3, 4, 5]\n"
     ]
    }
   ],
   "source": [
    "jark = [1,2,3,4,5]\n",
    "for i in jark:\n",
    "    print jark\n",
    "    "
   ]
  },
  {
   "cell_type": "code",
   "execution_count": 19,
   "metadata": {
    "collapsed": false
   },
   "outputs": [
    {
     "name": "stdout",
     "output_type": "stream",
     "text": [
      "test1\n",
      "test2\n"
     ]
    }
   ],
   "source": [
    "for i in jark:\n",
    "    print i\n",
    "    "
   ]
  },
  {
   "cell_type": "code",
   "execution_count": 20,
   "metadata": {
    "collapsed": false
   },
   "outputs": [
    {
     "name": "stdout",
     "output_type": "stream",
     "text": [
      "test1\n",
      "test2\n",
      "123\n"
     ]
    }
   ],
   "source": [
    "for i in jark:\n",
    "    print i\n",
    "print '123'"
   ]
  },
  {
   "cell_type": "code",
   "execution_count": 10,
   "metadata": {
    "collapsed": false
   },
   "outputs": [
    {
     "name": "stdout",
     "output_type": "stream",
     "text": [
      "test1\n",
      "test2\n"
     ]
    }
   ],
   "source": [
    "jark =['test1','test2']\n",
    "for i in range(0,len(jark)):\n",
    "    print jark[i]\n",
    "    "
   ]
  },
  {
   "cell_type": "code",
   "execution_count": 17,
   "metadata": {
    "collapsed": false
   },
   "outputs": [
    {
     "name": "stdout",
     "output_type": "stream",
     "text": [
      "当前水果 : banana\n",
      "当前水果 : apple\n",
      "当前水果 : mango\n"
     ]
    }
   ],
   "source": [
    "fruits = ['banana', 'apple',  'mango']\n",
    "for fruit in fruits:        # 第二个实例\n",
    "   print '当前水果 :', fruit"
   ]
  },
  {
   "cell_type": "code",
   "execution_count": 18,
   "metadata": {
    "collapsed": false
   },
   "outputs": [
    {
     "name": "stdout",
     "output_type": "stream",
     "text": [
      "当前水果 : banana\n",
      "当前水果 : apple\n",
      "当前水果 : mango\n"
     ]
    }
   ],
   "source": [
    "for fruit in fruits:        # 第二个实例\n",
    "   print '当前水果 :', fruit"
   ]
  },
  {
   "cell_type": "code",
   "execution_count": 54,
   "metadata": {
    "collapsed": false
   },
   "outputs": [
    {
     "name": "stdout",
     "output_type": "stream",
     "text": [
      "<type 'numpy.ndarray'>\n",
      "1137.78\n",
      "1.14120361083\n"
     ]
    }
   ],
   "source": [
    "import numpy\n",
    "world_alcohol = numpy.genfromtxt('world_alcohol.txt',delimiter=',',skip_header=1)\n",
    "print type(world_alcohol)\n",
    "#print world_alcohol\n",
    "is_value_empty = numpy.isnan(world_alcohol[:,4])\n",
    "#print is_value_empty\n",
    "world_alcohol[is_value_empty,4] = '0'\n",
    "#a = world_alcohol[:,4].astype(float)\n",
    "#a = a.astype(float)\n",
    "total_alcohol = world_alcohol[:,4].astype(float).sum()\n",
    "avg_alcohol = world_alcohol[:,4].astype(float).mean()\n",
    "\n",
    "print total_alcohol\n",
    "print avg_alcohol\n"
   ]
  },
  {
   "cell_type": "code",
   "execution_count": 22,
   "metadata": {
    "collapsed": false
   },
   "outputs": [
    {
     "name": "stdout",
     "output_type": "stream",
     "text": [
      "[[             nan              nan              nan              nan\n",
      "               nan]\n",
      " [  1.98600000e+03              nan              nan              nan\n",
      "    0.00000000e+00]\n",
      " [  1.98600000e+03              nan              nan              nan\n",
      "    5.00000000e-01]\n",
      " ..., \n",
      " [  1.98700000e+03              nan              nan              nan\n",
      "    7.50000000e-01]\n",
      " [  1.98900000e+03              nan              nan              nan\n",
      "    1.50000000e+00]\n",
      " [  1.98500000e+03              nan              nan              nan\n",
      "    3.10000000e-01]]\n"
     ]
    }
   ],
   "source": [
    "print world_alcohol"
   ]
  },
  {
   "cell_type": "code",
   "execution_count": 45,
   "metadata": {
    "collapsed": false
   },
   "outputs": [
    {
     "name": "stdout",
     "output_type": "stream",
     "text": [
      "[ 5 10 15 20]\n",
      "[[ 5 10 15]\n",
      " [20 25 30]\n",
      " [35 40 45]]\n",
      "[10 25 40]\n",
      "[[ 5 10 15]\n",
      " [20 25 30]\n",
      " [35 40 45]]\n",
      "\n",
      "[[30]]\n",
      "[ 30  75 120]\n"
     ]
    }
   ],
   "source": [
    "vector = numpy.array([5,10,15,20])\n",
    "matrix = numpy.array([[5,10,15],[20,25,30],[35,40,45]])\n",
    "print vector\n",
    "print matrix\n",
    "\n",
    "print matrix[:,1]\n",
    "print matrix[:,0:3]\n",
    "\n",
    "print \n",
    "\n",
    "print matrix[1:2,2:3]\n",
    "\n",
    "\n",
    "#matrix == 30\n",
    "\n",
    "#b = (vector == 10)\n",
    "#print b \n",
    "#print vector[b]\n",
    "\n",
    "#c = (matrix[:,1]==25)\n",
    "#print c \n",
    "#print matrix[:,c]\n",
    "\n",
    "#print vector.mean()\n",
    "#print matrix.mean()\n",
    "#print help(numpy.sum)\n",
    "print matrix.sum(axis=1) "
   ]
  },
  {
   "cell_type": "code",
   "execution_count": 24,
   "metadata": {
    "collapsed": false
   },
   "outputs": [
    {
     "name": "stdout",
     "output_type": "stream",
     "text": [
      "(4,)\n",
      "(3, 3)\n"
     ]
    }
   ],
   "source": [
    "print vector.shape\n",
    "print matrix.shape\n"
   ]
  },
  {
   "cell_type": "code",
   "execution_count": 25,
   "metadata": {
    "collapsed": false
   },
   "outputs": [
    {
     "data": {
      "text/plain": [
       "dtype('int64')"
      ]
     },
     "execution_count": 25,
     "metadata": {},
     "output_type": "execute_result"
    }
   ],
   "source": [
    "vector.dtype\n"
   ]
  },
  {
   "cell_type": "code",
   "execution_count": 26,
   "metadata": {
    "collapsed": false
   },
   "outputs": [
    {
     "data": {
      "text/plain": [
       "dtype('int64')"
      ]
     },
     "execution_count": 26,
     "metadata": {},
     "output_type": "execute_result"
    }
   ],
   "source": [
    "matrix.dtype\n"
   ]
  },
  {
   "cell_type": "code",
   "execution_count": 64,
   "metadata": {
    "collapsed": false
   },
   "outputs": [
    {
     "name": "stdout",
     "output_type": "stream",
     "text": [
      "[ 0  1  2  3  4  5  6  7  8  9 10 11 12 13 14]\n"
     ]
    },
    {
     "data": {
      "text/plain": [
       "array([[ 0,  1,  2,  3,  4],\n",
       "       [ 5,  6,  7,  8,  9],\n",
       "       [10, 11, 12, 13, 14]])"
      ]
     },
     "execution_count": 64,
     "metadata": {},
     "output_type": "execute_result"
    }
   ],
   "source": [
    "import numpy as np\n",
    "print np.arange(15)\n",
    "a = np.arange(15).reshape(3,5)\n",
    "a\n"
   ]
  },
  {
   "cell_type": "code",
   "execution_count": 65,
   "metadata": {
    "collapsed": false
   },
   "outputs": [
    {
     "data": {
      "text/plain": [
       "(3, 5)"
      ]
     },
     "execution_count": 65,
     "metadata": {},
     "output_type": "execute_result"
    }
   ],
   "source": [
    "a.shape"
   ]
  },
  {
   "cell_type": "code",
   "execution_count": 66,
   "metadata": {
    "collapsed": false
   },
   "outputs": [
    {
     "data": {
      "text/plain": [
       "2"
      ]
     },
     "execution_count": 66,
     "metadata": {},
     "output_type": "execute_result"
    }
   ],
   "source": [
    "a.ndim"
   ]
  },
  {
   "cell_type": "code",
   "execution_count": 67,
   "metadata": {
    "collapsed": false
   },
   "outputs": [
    {
     "data": {
      "text/plain": [
       "'int64'"
      ]
     },
     "execution_count": 67,
     "metadata": {},
     "output_type": "execute_result"
    }
   ],
   "source": [
    "a.dtype.name\n"
   ]
  },
  {
   "cell_type": "code",
   "execution_count": 68,
   "metadata": {
    "collapsed": false
   },
   "outputs": [
    {
     "data": {
      "text/plain": [
       "15"
      ]
     },
     "execution_count": 68,
     "metadata": {},
     "output_type": "execute_result"
    }
   ],
   "source": [
    "a.size"
   ]
  },
  {
   "cell_type": "code",
   "execution_count": 77,
   "metadata": {
    "collapsed": false
   },
   "outputs": [
    {
     "data": {
      "text/plain": [
       "array([[0, 0, 0, 0],\n",
       "       [0, 0, 0, 0],\n",
       "       [0, 0, 0, 0]], dtype=int32)"
      ]
     },
     "execution_count": 77,
     "metadata": {},
     "output_type": "execute_result"
    }
   ],
   "source": [
    "np.zeros((3,4),dtype=np.int32)"
   ]
  },
  {
   "cell_type": "code",
   "execution_count": 76,
   "metadata": {
    "collapsed": false
   },
   "outputs": [
    {
     "data": {
      "text/plain": [
       "array([[[1, 1, 1, 1],\n",
       "        [1, 1, 1, 1],\n",
       "        [1, 1, 1, 1]],\n",
       "\n",
       "       [[1, 1, 1, 1],\n",
       "        [1, 1, 1, 1],\n",
       "        [1, 1, 1, 1]]], dtype=int32)"
      ]
     },
     "execution_count": 76,
     "metadata": {},
     "output_type": "execute_result"
    }
   ],
   "source": [
    "np.ones((2,3,4),dtype=np.int32)"
   ]
  },
  {
   "cell_type": "code",
   "execution_count": 80,
   "metadata": {
    "collapsed": false
   },
   "outputs": [
    {
     "data": {
      "text/plain": [
       "array([10, 11, 12, 13, 14, 15, 16, 17, 18, 19, 20, 21, 22, 23, 24, 25, 26,\n",
       "       27, 28, 29, 30, 31, 32, 33, 34, 35, 36, 37, 38, 39])"
      ]
     },
     "execution_count": 80,
     "metadata": {},
     "output_type": "execute_result"
    }
   ],
   "source": [
    "np.arange(10,40,1)"
   ]
  },
  {
   "cell_type": "code",
   "execution_count": 81,
   "metadata": {
    "collapsed": false
   },
   "outputs": [
    {
     "data": {
      "text/plain": [
       "array([[ 0,  1,  2,  3,  4,  5,  6],\n",
       "       [ 7,  8,  9, 10, 11, 12, 13]])"
      ]
     },
     "execution_count": 81,
     "metadata": {},
     "output_type": "execute_result"
    }
   ],
   "source": [
    "np.arange(14).reshape(2,7)"
   ]
  },
  {
   "cell_type": "code",
   "execution_count": 87,
   "metadata": {
    "collapsed": false
   },
   "outputs": [
    {
     "data": {
      "text/plain": [
       "array([[-0.2997619 , -0.58260105, -0.36503016],\n",
       "       [-0.40324714,  0.41624014,  0.3857419 ]])"
      ]
     },
     "execution_count": 87,
     "metadata": {},
     "output_type": "execute_result"
    }
   ],
   "source": [
    "np.random.random((2,3))*2-1"
   ]
  },
  {
   "cell_type": "code",
   "execution_count": 90,
   "metadata": {
    "collapsed": false
   },
   "outputs": [
    {
     "data": {
      "text/plain": [
       "array([ 2.        ,  2.0432645 ,  2.086529  ,  2.12979349,  2.17305799,\n",
       "        2.21632249,  2.25958699,  2.30285149,  2.34611598,  2.38938048,\n",
       "        2.43264498,  2.47590948,  2.51917398,  2.56243847,  2.60570297,\n",
       "        2.64896747,  2.69223197,  2.73549647,  2.77876096,  2.82202546,\n",
       "        2.86528996,  2.90855446,  2.95181896,  2.99508346,  3.03834795,\n",
       "        3.08161245,  3.12487695,  3.16814145,  3.21140595,  3.25467044,\n",
       "        3.29793494,  3.34119944,  3.38446394,  3.42772844,  3.47099293,\n",
       "        3.51425743,  3.55752193,  3.60078643,  3.64405093,  3.68731542,\n",
       "        3.73057992,  3.77384442,  3.81710892,  3.86037342,  3.90363791,\n",
       "        3.94690241,  3.99016691,  4.03343141,  4.07669591,  4.1199604 ,\n",
       "        4.1632249 ,  4.2064894 ,  4.2497539 ,  4.2930184 ,  4.33628289,\n",
       "        4.37954739,  4.42281189,  4.46607639,  4.50934089,  4.55260539,\n",
       "        4.59586988,  4.63913438,  4.68239888,  4.72566338,  4.76892788,\n",
       "        4.81219237,  4.85545687,  4.89872137,  4.94198587,  4.98525037,\n",
       "        5.02851486,  5.07177936,  5.11504386,  5.15830836,  5.20157286,\n",
       "        5.24483735,  5.28810185,  5.33136635,  5.37463085,  5.41789535,\n",
       "        5.46115984,  5.50442434,  5.54768884,  5.59095334,  5.63421784,\n",
       "        5.67748233,  5.72074683,  5.76401133,  5.80727583,  5.85054033,\n",
       "        5.89380482,  5.93706932,  5.98033382,  6.02359832,  6.06686282,\n",
       "        6.11012731,  6.15339181,  6.19665631,  6.23992081,  6.28318531])"
      ]
     },
     "execution_count": 90,
     "metadata": {},
     "output_type": "execute_result"
    }
   ],
   "source": [
    "from numpy import pi\n",
    "np.linspace(2,2*pi,100)"
   ]
  },
  {
   "cell_type": "code",
   "execution_count": 91,
   "metadata": {
    "collapsed": false
   },
   "outputs": [
    {
     "data": {
      "text/plain": [
       "array([  9.09297427e-01,   8.90447773e-01,   8.69931624e-01,\n",
       "         8.47787376e-01,   8.24056473e-01,   7.98783328e-01,\n",
       "         7.72015240e-01,   7.43802306e-01,   7.14197328e-01,\n",
       "         6.83255712e-01,   6.51035366e-01,   6.17596591e-01,\n",
       "         5.83001968e-01,   5.47316243e-01,   5.10606202e-01,\n",
       "         4.72940549e-01,   4.34389776e-01,   3.95026031e-01,\n",
       "         3.54922986e-01,   3.14155693e-01,   2.72800450e-01,\n",
       "         2.30934655e-01,   1.88636659e-01,   1.45985625e-01,\n",
       "         1.03061376e-01,   5.99442444e-02,   1.67149258e-02,\n",
       "        -2.65456752e-02,  -6.97565952e-02,  -1.12836964e-01,\n",
       "        -1.55706156e-01,  -1.98283940e-01,  -2.40490630e-01,\n",
       "        -2.82247236e-01,  -3.23475610e-01,  -3.64098591e-01,\n",
       "        -4.04040152e-01,  -4.43225542e-01,  -4.81581425e-01,\n",
       "        -5.19036016e-01,  -5.55519218e-01,  -5.90962752e-01,\n",
       "        -6.25300285e-01,  -6.58467552e-01,  -6.90402482e-01,\n",
       "        -7.21045306e-01,  -7.50338675e-01,  -7.78227768e-01,\n",
       "        -8.04660387e-01,  -8.29587065e-01,  -8.52961150e-01,\n",
       "        -8.74738897e-01,  -8.94879548e-01,  -9.13345411e-01,\n",
       "        -9.30101924e-01,  -9.45117729e-01,  -9.58364722e-01,\n",
       "        -9.69818112e-01,  -9.79456463e-01,  -9.87261737e-01,\n",
       "        -9.93219327e-01,  -9.97318081e-01,  -9.99550331e-01,\n",
       "        -9.99911896e-01,  -9.98402102e-01,  -9.95023774e-01,\n",
       "        -9.89783234e-01,  -9.82690290e-01,  -9.73758217e-01,\n",
       "        -9.63003731e-01,  -9.50446959e-01,  -9.36111403e-01,\n",
       "        -9.20023890e-01,  -9.02214531e-01,  -8.82716654e-01,\n",
       "        -8.61566751e-01,  -8.38804405e-01,  -8.14472215e-01,\n",
       "        -7.88615721e-01,  -7.61283312e-01,  -7.32526143e-01,\n",
       "        -7.02398033e-01,  -6.70955367e-01,  -6.38256992e-01,\n",
       "        -6.04364104e-01,  -5.69340132e-01,  -5.33250627e-01,\n",
       "        -4.96163129e-01,  -4.58147051e-01,  -4.19273538e-01,\n",
       "        -3.79615345e-01,  -3.39246692e-01,  -2.98243131e-01,\n",
       "        -2.56681400e-01,  -2.14639283e-01,  -1.72195464e-01,\n",
       "        -1.29429377e-01,  -8.64210589e-02,  -4.32510021e-02,\n",
       "        -2.44929360e-16])"
      ]
     },
     "execution_count": 91,
     "metadata": {},
     "output_type": "execute_result"
    }
   ],
   "source": [
    "np.sin(np.linspace(2,2*pi,100))"
   ]
  },
  {
   "cell_type": "code",
   "execution_count": 2,
   "metadata": {
    "collapsed": false
   },
   "outputs": [
    {
     "name": "stdout",
     "output_type": "stream",
     "text": [
      "[0 1 2]\n",
      "[ 1.          2.71828183  7.3890561 ]\n",
      "[ 0.          1.          1.41421356]\n"
     ]
    }
   ],
   "source": [
    "import numpy as np\n",
    "B = np.arange(3)\n",
    "print B\n",
    "print np.exp(B)\n",
    "print np.sqrt(B)"
   ]
  },
  {
   "cell_type": "code",
   "execution_count": 9,
   "metadata": {
    "collapsed": false
   },
   "outputs": [
    {
     "name": "stdout",
     "output_type": "stream",
     "text": [
      "[[ 8.  5.  4.  2.]\n",
      " [ 8.  6.  8.  4.]\n",
      " [ 5.  0.  2.  3.]]\n",
      "--------\n",
      "[ 8.  5.  4.  2.  8.  6.  8.  4.  5.  0.  2.  3.]\n",
      "--------\n",
      "[[ 8.  5.  4.  2.]\n",
      " [ 8.  6.  8.  4.]\n",
      " [ 5.  0.  2.  3.]]\n",
      "--------\n",
      "[[ 8.  8.  5.]\n",
      " [ 5.  6.  0.]\n",
      " [ 4.  8.  2.]\n",
      " [ 2.  4.  3.]]\n"
     ]
    }
   ],
   "source": [
    "a = np.floor(10*np.random.random((3,4)))\n",
    "print a \n",
    "print '--------'\n",
    "print a.ravel()\n",
    "print '--------'\n",
    "#a.shape = (6,2)\n",
    "a.reshape(6,-1)\n",
    "print a \n",
    "print '--------'\n",
    "print a.T"
   ]
  },
  {
   "cell_type": "code",
   "execution_count": 12,
   "metadata": {
    "collapsed": false
   },
   "outputs": [
    {
     "name": "stdout",
     "output_type": "stream",
     "text": [
      "[[ 5.  7.]\n",
      " [ 2.  7.]]\n",
      "-----\n",
      "[[ 5.  9.]\n",
      " [ 6.  2.]]\n",
      "-----\n",
      "[[ 5.  7.  5.  9.]\n",
      " [ 2.  7.  6.  2.]]\n",
      "[[ 5.  7.]\n",
      " [ 2.  7.]\n",
      " [ 5.  9.]\n",
      " [ 6.  2.]]\n"
     ]
    }
   ],
   "source": [
    "a = np.floor(10*np.random.random((2,2)))\n",
    "b = np.floor(10*np.random.random((2,2)))\n",
    "print a \n",
    "print '-----'\n",
    "print b \n",
    "print '-----'\n",
    "print np.hstack((a,b))\n",
    "print np.vstack((a,b))"
   ]
  },
  {
   "cell_type": "code",
   "execution_count": 19,
   "metadata": {
    "collapsed": false
   },
   "outputs": [
    {
     "name": "stdout",
     "output_type": "stream",
     "text": [
      "[[ 4.  8.  7.  0.  8.  4.  1.  4.  5.  4.  6.  7.]\n",
      " [ 7.  9.  8.  4.  2.  3.  3.  1.  0.  4.  1.  5.]]\n",
      "-----\n",
      "[array([[ 4.,  8.,  7.,  0.],\n",
      "       [ 7.,  9.,  8.,  4.]]), array([[ 8.,  4.,  1.,  4.],\n",
      "       [ 2.,  3.,  3.,  1.]]), array([[ 5.,  4.,  6.,  7.],\n",
      "       [ 0.,  4.,  1.,  5.]])]\n",
      "-----\n",
      "[array([[ 4.,  8.,  7.],\n",
      "       [ 7.,  9.,  8.]]), array([[ 0.,  8.,  4.,  1.],\n",
      "       [ 4.,  2.,  3.,  3.]]), array([[ 4.,  5.,  4.,  6.,  7.],\n",
      "       [ 1.,  0.,  4.,  1.,  5.]])]\n",
      "-----\n",
      "[[ 3.  8.]\n",
      " [ 7.  6.]\n",
      " [ 2.  7.]\n",
      " [ 2.  8.]\n",
      " [ 0.  9.]\n",
      " [ 6.  0.]\n",
      " [ 8.  2.]\n",
      " [ 2.  6.]\n",
      " [ 2.  4.]\n",
      " [ 4.  4.]\n",
      " [ 4.  4.]\n",
      " [ 7.  2.]]\n",
      "-----\n",
      "[array([[ 3.,  8.],\n",
      "       [ 7.,  6.],\n",
      "       [ 2.,  7.],\n",
      "       [ 2.,  8.]]), array([[ 0.,  9.],\n",
      "       [ 6.,  0.],\n",
      "       [ 8.,  2.],\n",
      "       [ 2.,  6.]]), array([[ 2.,  4.],\n",
      "       [ 4.,  4.],\n",
      "       [ 4.,  4.],\n",
      "       [ 7.,  2.]])]\n"
     ]
    }
   ],
   "source": [
    "a = np.floor(10*np.random.random((2,12)))\n",
    "print a \n",
    "print '-----'\n",
    "print np.hsplit(a,3)\n",
    "print '-----'\n",
    "print np.hsplit(a,(3,7))\n",
    "print '-----'\n",
    "\n",
    "a = np.floor(10*np.random.random((12,2)))\n",
    "print a\n",
    "print '-----'\n",
    "#np.vsplit(a,3)\n",
    "print np.vsplit(a,3)"
   ]
  },
  {
   "cell_type": "code",
   "execution_count": 21,
   "metadata": {
    "collapsed": false
   },
   "outputs": [
    {
     "name": "stdout",
     "output_type": "stream",
     "text": [
      "[ 0  1  2  3  4  5  6  7  8  9 10 11] [ 0  1  2  3  4  5  6  7  8  9 10 11]\n",
      "True\n",
      "(3, 4)\n",
      "4649038032\n",
      "4649038032\n"
     ]
    }
   ],
   "source": [
    "a = np.arange(12)\n",
    "b = a \n",
    "print a,b\n",
    "print b is a \n",
    "b.shape = 3,4\n",
    "print a.shape\n",
    "print id(a)\n",
    "print id(b)"
   ]
  },
  {
   "cell_type": "code",
   "execution_count": 45,
   "metadata": {
    "collapsed": false
   },
   "outputs": [
    {
     "name": "stdout",
     "output_type": "stream",
     "text": [
      "False\n",
      "(2, 6)\n",
      "[[9999    1    2    3]\n",
      " [9999    5    6    7]\n",
      " [   8    9   10   11]]\n",
      "[[9999    1    2    3 9999    5]\n",
      " [   6    7    8    9   10   11]]\n",
      "[[9999    1    2    3]\n",
      " [9999    5    6    7]\n",
      " [   8    9   10   11]]\n",
      "[[9999    1    2    3 9999    5]\n",
      " [   6    7    8    9   10   11]]\n",
      "4649038032\n",
      "4649767920\n"
     ]
    }
   ],
   "source": [
    "c = a.view()\n",
    "print c is a\n",
    "#c.reshape(6,2)\n",
    "c.shape = (2,6)\n",
    "print c.shape\n",
    "print a \n",
    "print c \n",
    "c[0,0]=9999\n",
    "print a \n",
    "print c \n",
    "print id(a)\n",
    "print id(c)"
   ]
  },
  {
   "cell_type": "code",
   "execution_count": null,
   "metadata": {
    "collapsed": true
   },
   "outputs": [],
   "source": [
    "d = a.copy()\n",
    "print d is a \n",
    "d[0,0] =9999\n",
    "print d\n",
    "print a \n",
    "print id(a)\n",
    "print id(d)"
   ]
  },
  {
   "cell_type": "code",
   "execution_count": 47,
   "metadata": {
    "collapsed": false
   },
   "outputs": [
    {
     "name": "stdout",
     "output_type": "stream",
     "text": [
      "[[ 0.          0.84147098  0.90929743  0.14112001]\n",
      " [-0.7568025  -0.95892427 -0.2794155   0.6569866 ]\n",
      " [ 0.98935825  0.41211849 -0.54402111 -0.99999021]\n",
      " [-0.53657292  0.42016704  0.99060736  0.65028784]\n",
      " [-0.28790332 -0.96139749 -0.75098725  0.14987721]]\n",
      "[[ 0.          0.84147098  0.90929743  0.14112001 -0.7568025 ]\n",
      " [-0.95892427 -0.2794155   0.6569866   0.98935825  0.41211849]\n",
      " [-0.54402111 -0.99999021 -0.53657292  0.42016704  0.99060736]\n",
      " [ 0.65028784 -0.28790332 -0.96139749 -0.75098725  0.14987721]]\n",
      "(5, 4)\n"
     ]
    }
   ],
   "source": [
    "data = np.sin(np.arange(20)).reshape(5,4)\n",
    "print data\n",
    "print data.reshape(4,5)\n",
    "print data.shape\n",
    "#reshape cann't change this arange"
   ]
  },
  {
   "cell_type": "code",
   "execution_count": 72,
   "metadata": {
    "collapsed": false
   },
   "outputs": [
    {
     "name": "stdout",
     "output_type": "stream",
     "text": [
      "[[ 0.          0.84147098  0.90929743  0.14112001]\n",
      " [-0.7568025  -0.95892427 -0.2794155   0.6569866 ]\n",
      " [ 0.98935825  0.41211849 -0.54402111 -0.99999021]\n",
      " [-0.53657292  0.42016704  0.99060736  0.65028784]\n",
      " [-0.28790332 -0.96139749 -0.75098725  0.14987721]]\n",
      "[2 3 0 2 3]\n",
      "5\n",
      "[ 0.90929743  0.6569866   0.98935825  0.99060736  0.14987721]\n"
     ]
    }
   ],
   "source": [
    "print data\n",
    "ind = data.argmax(axis=1)\n",
    "print ind\n",
    "#data_max = data[ind,range(data.shape[0])]\n",
    "#print data_max\n",
    "print data.shape[0]\n",
    "#print range(data.shape[1])\n",
    "#print data[ind,range(data.shape[1])]\n",
    "print data[range(data.shape[0]),ind]\n"
   ]
  },
  {
   "cell_type": "code",
   "execution_count": 75,
   "metadata": {
    "collapsed": false
   },
   "outputs": [
    {
     "name": "stdout",
     "output_type": "stream",
     "text": [
      "[[ 0.          0.84147098  0.90929743  0.14112001]\n",
      " [-0.7568025  -0.95892427 -0.2794155   0.6569866 ]\n",
      " [ 0.98935825  0.41211849 -0.54402111 -0.99999021]\n",
      " [-0.53657292  0.42016704  0.99060736  0.65028784]\n",
      " [-0.28790332 -0.96139749 -0.75098725  0.14987721]]\n",
      "[2 0 3 1]\n",
      "[0, 1, 2, 3]\n",
      "[ 0.98935825  0.84147098  0.99060736  0.6569866 ]\n"
     ]
    }
   ],
   "source": [
    "print data\n",
    "index = data.argmax(axis=0)\n",
    "print index\n",
    "print range(data.shape[1])\n",
    "print data[index,range(data.shape[1])]"
   ]
  },
  {
   "cell_type": "code",
   "execution_count": 77,
   "metadata": {
    "collapsed": false
   },
   "outputs": [
    {
     "name": "stdout",
     "output_type": "stream",
     "text": [
      "[[ 0.          0.84147098  0.90929743  0.14112001]\n",
      " [-0.7568025  -0.95892427 -0.2794155   0.6569866 ]\n",
      " [ 0.98935825  0.41211849 -0.54402111 -0.99999021]\n",
      " [-0.53657292  0.42016704  0.99060736  0.65028784]\n",
      " [-0.28790332 -0.96139749 -0.75098725  0.14987721]]\n",
      "[0 1 3 0 1]\n",
      "[0, 1, 2, 3, 4]\n",
      "[ 0.         -0.95892427 -0.99999021 -0.53657292 -0.96139749]\n"
     ]
    }
   ],
   "source": [
    "print data \n",
    "ind = data.argmin(axis=1)\n",
    "print ind\n",
    "print range(data.shape[0])\n",
    "print data[range(data.shape[0]),ind]"
   ]
  },
  {
   "cell_type": "code",
   "execution_count": 79,
   "metadata": {
    "collapsed": false
   },
   "outputs": [
    {
     "name": "stdout",
     "output_type": "stream",
     "text": [
      "[ 0 10 20 30]\n",
      "[[ 0 10 20 30  0 10 20 30  0 10 20 30  0 10 20 30]\n",
      " [ 0 10 20 30  0 10 20 30  0 10 20 30  0 10 20 30]\n",
      " [ 0 10 20 30  0 10 20 30  0 10 20 30  0 10 20 30]]\n"
     ]
    }
   ],
   "source": [
    "a = np.arange(0,40,10)\n",
    "print a \n",
    "b = np.tile(a,(3,4))\n",
    "print b "
   ]
  },
  {
   "cell_type": "code",
   "execution_count": 96,
   "metadata": {
    "collapsed": false
   },
   "outputs": [
    {
     "name": "stdout",
     "output_type": "stream",
     "text": [
      "[[4 3 5]\n",
      " [8 7 6]\n",
      " [1 2 8]]\n",
      "-----\n",
      "[[1 2 5]\n",
      " [4 3 6]\n",
      " [8 7 8]]\n",
      "-----\n",
      "[[3 4 5]\n",
      " [6 7 8]\n",
      " [1 2 8]]\n",
      "-----\n",
      "[[1 2 5]\n",
      " [4 3 6]\n",
      " [8 7 8]]\n"
     ]
    }
   ],
   "source": [
    "a = np.array([[4,3,5],[8,7,6],[1,2,8]])\n",
    "print a \n",
    "print '-----'\n",
    "print np.sort(a,axis=0)\n",
    "print '-----'\n",
    "print np.sort(a,axis=1)\n",
    "print '-----'\n",
    "a.sort(axis=0)\n",
    "print a"
   ]
  },
  {
   "cell_type": "code",
   "execution_count": 97,
   "metadata": {
    "collapsed": false
   },
   "outputs": [
    {
     "name": "stdout",
     "output_type": "stream",
     "text": [
      "[1 3 2 0]\n",
      "-----\n",
      "[1 2 3 4]\n"
     ]
    }
   ],
   "source": [
    "a = np.array([4,1,3,2])\n",
    "j = np.argsort(a)\n",
    "print j \n",
    "print '-----'\n",
    "print a[j]"
   ]
  },
  {
   "cell_type": "code",
   "execution_count": null,
   "metadata": {
    "collapsed": true
   },
   "outputs": [],
   "source": []
  }
 ],
 "metadata": {
  "kernelspec": {
   "display_name": "Python 2",
   "language": "python",
   "name": "python2"
  },
  "language_info": {
   "codemirror_mode": {
    "name": "ipython",
    "version": 2
   },
   "file_extension": ".py",
   "mimetype": "text/x-python",
   "name": "python",
   "nbconvert_exporter": "python",
   "pygments_lexer": "ipython2",
   "version": "2.7.13"
  }
 },
 "nbformat": 4,
 "nbformat_minor": 2
}
