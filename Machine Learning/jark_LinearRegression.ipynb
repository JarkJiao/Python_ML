{
 "cells": [
  {
   "cell_type": "code",
   "execution_count": 10,
   "metadata": {
    "collapsed": true
   },
   "outputs": [],
   "source": [
    "'''http://wenku.baidu.com/link?\n",
    "url=Rkiuci3Z4Ox0grmTiq6cYIBaEUsH10XjwS0vY0VANS9uZx5wo5T7\n",
    "g_AASZ2fyA2_mx7YZ-mQEjAeyTX8R9c2_NbZNoDH-vciZ5XnwTR5W17\n",
    "'''\n",
    "import matplotlib.pyplot as plt\n",
    "import numpy as np\n",
    "from sklearn import datasets"
   ]
  },
  {
   "cell_type": "code",
   "execution_count": 11,
   "metadata": {
    "collapsed": true
   },
   "outputs": [],
   "source": [
    "class LinearRegression():\n",
    "    def __init__(self):\n",
    "        self.w = None\n",
    "        \n",
    "    def fit(self,X,y):\n",
    "        print X.shape\n",
    "        X = np.insert(X,0,1,axis=1)\n",
    "        print X.shape\n",
    "        X_ = np.linalg.inv(X.T.dot(X))\n",
    "        self.w = X_.dot(X.T).dot(y)\n",
    "        \n",
    "    def predict(self,X):\n",
    "        X = np.insert(X,0,1,axis=1)\n",
    "        y_pred = X.dot(self.w)\n",
    "        return y_pred\n"
   ]
  },
  {
   "cell_type": "code",
   "execution_count": 12,
   "metadata": {
    "collapsed": false
   },
   "outputs": [],
   "source": [
    "def mean_squared_error(y_true,y_pred):\n",
    "    mse = np.mean(np.power(y_true - y_pred,2))\n",
    "    return mse\n",
    "#print help(np.power)"
   ]
  },
  {
   "cell_type": "code",
   "execution_count": 19,
   "metadata": {
    "collapsed": false
   },
   "outputs": [],
   "source": [
    "def main():\n",
    "    diabetes = datasets.load_diabetes()  #加载数据集\n",
    "    X = diabetes.data[:,np.newaxis,2]    #np.newaxis行向量转化为列向量\n",
    "    print X.shape\n",
    "    x_train,x_test = X[:-20],X[-20:]\n",
    "    y_train,y_test = diabetes.target[:-20],diabetes.target[-20:]\n",
    "    \n",
    "    clf = LinearRegression()\n",
    "    clf.fit(x_train,y_train)\n",
    "    y_pred = clf.predict(x_test)\n",
    "    \n",
    "    print 'Mean Squared Error:',mean_squared_error(y_test,y_pred)\n",
    "    \n",
    "    plt.scatter(x_test[:,0],y_test,color='black')\n",
    "    plt.plot(x_test[:,0],y_pred,color='blue',linewidth=3)\n",
    "    plt.show()"
   ]
  },
  {
   "cell_type": "code",
   "execution_count": 20,
   "metadata": {
    "collapsed": false
   },
   "outputs": [
    {
     "name": "stdout",
     "output_type": "stream",
     "text": [
      "(442, 1)\n",
      "(422, 1)\n",
      "(422, 2)\n",
      "Mean Squared Error: 2548.07239873\n"
     ]
    },
    {
     "data": {
      "image/png": "[encoded data removed]",
      "text/plain": [
       "<matplotlib.figure.Figure at 0x10e7eb9d0>"
      ]
     },
     "metadata": {},
     "output_type": "display_data"
    }
   ],
   "source": [
    "main()"
   ]
  },
  {
   "cell_type": "code",
   "execution_count": 52,
   "metadata": {
    "collapsed": true
   },
   "outputs": [],
   "source": [
    "import matplotlib.pyplot as plt\n",
    "import numpy as np\n",
    "from sklearn import datasets"
   ]
  },
  {
   "cell_type": "code",
   "execution_count": 53,
   "metadata": {
    "collapsed": true
   },
   "outputs": [],
   "source": [
    "class LinearRegression_1:\n",
    "    def __init__(self):\n",
    "        self.w = None\n",
    "        \n",
    "    def fit (self,X,y):\n",
    "        print X.shape\n",
    "        X = np.insert(X,0,1,axis=1)\n",
    "        print X.shape\n",
    "        X_ = np.linalg.inv(X.T.dot(X))\n",
    "        self.w = X_.dot(X.T).dot(y)\n",
    "        \n",
    "    def predict(self,X):\n",
    "        X = np.insert(X,0,1,axis=1)\n",
    "        y_pred = X.dot(self.w)\n",
    "        return y_pred\n"
   ]
  },
  {
   "cell_type": "code",
   "execution_count": 54,
   "metadata": {
    "collapsed": true
   },
   "outputs": [],
   "source": [
    "def mean_square_error(y_true,y_pred):\n",
    "    mse = np.mean(np.power(y_true - y_pred,2))\n",
    "    print 'Mean Square Error:%.2f' % mse \n",
    "    #return mse"
   ]
  },
  {
   "cell_type": "code",
   "execution_count": 55,
   "metadata": {
    "collapsed": false
   },
   "outputs": [],
   "source": [
    "def main_1():\n",
    "    diabetes = datasets.load_diabetes();\n",
    "    diabetes_X = diabetes.data[:,np.newaxis,2]\n",
    "    X_train,X_test = diabetes_X[:-20],diabetes_X[-20:]\n",
    "    y_train,y_test = diabetes.target[:-20],diabetes.target[-20:]\n",
    "    \n",
    "    lr = LinearRegression_1()\n",
    "    lr.fit(X_train,y_train)\n",
    "    y_pred = lr.predict(X_test)\n",
    "    \n",
    "    mean_square_error(y_test,y_pred)\n",
    "    #print 'Mean Square Error:%.2f' % mean_square_error(y_true,y_pred) \n",
    "    \n",
    "    plt.scatter(X_test,y_test,color='black')\n",
    "    plt.plot(X_test,y_pred,color='red',linewidth = 5)\n",
    "    \n",
    "    plt.grid()\n",
    "    plt.show()"
   ]
  },
  {
   "cell_type": "code",
   "execution_count": 56,
   "metadata": {
    "collapsed": false
   },
   "outputs": [
    {
     "name": "stdout",
     "output_type": "stream",
     "text": [
      "(422, 1)\n",
      "(422, 2)\n",
      "Mean Square Error:2548.07\n"
     ]
    },
    {
     "data": {
      "image/png": "[encoded data removed]",
      "text/plain": [
       "<matplotlib.figure.Figure at 0x10ef65ed0>"
      ]
     },
     "metadata": {},
     "output_type": "display_data"
    }
   ],
   "source": [
    "main_1()"
   ]
  },
  {
   "cell_type": "code",
   "execution_count": null,
   "metadata": {
    "collapsed": true
   },
   "outputs": [],
   "source": []
  }
 ],
 "metadata": {
  "kernelspec": {
   "display_name": "Python 2",
   "language": "python",
   "name": "python2"
  },
  "language_info": {
   "codemirror_mode": {
    "name": "ipython",
    "version": 2
   },
   "file_extension": ".py",
   "mimetype": "text/x-python",
   "name": "python",
   "nbconvert_exporter": "python",
   "pygments_lexer": "ipython2",
   "version": "2.7.13"
  }
 },
 "nbformat": 4,
 "nbformat_minor": 2
}
